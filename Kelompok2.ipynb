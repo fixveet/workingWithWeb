{
  "cells": [
    {
      "cell_type": "markdown",
      "metadata": {
        "id": "view-in-github",
        "colab_type": "text"
      },
      "source": [
        "<a href=\"https://colab.research.google.com/github/fixveet/workingWithWeb/blob/main/Kelompok2.ipynb\" target=\"_parent\"><img src=\"https://colab.research.google.com/assets/colab-badge.svg\" alt=\"Open In Colab\"/></a>"
      ]
    },
    {
      "cell_type": "markdown",
      "id": "f3660d39-d065-42fd-953b-0ee0c33c70a9",
      "metadata": {
        "id": "f3660d39-d065-42fd-953b-0ee0c33c70a9"
      },
      "source": [
        "UJIAN TENGAH SEMESTER MATAKULIAH PEMROGRAMAN JARINGAN KELOMPOK 2\n",
        "-"
      ]
    },
    {
      "cell_type": "markdown",
      "id": "26d7ce90-0298-46dc-b3ac-c3d95ab57ca7",
      "metadata": {
        "id": "26d7ce90-0298-46dc-b3ac-c3d95ab57ca7"
      },
      "source": [
        "Anggota\n",
        "- Nakheisya Febi Andini (D1041211049)\n",
        "- Novita Anggraini (D1041211047)\n",
        "- Ribka Shalom C.S (D1041211042)"
      ]
    },
    {
      "cell_type": "markdown",
      "id": "fbdfd894-dee7-42ae-a811-1e375ff2c9d2",
      "metadata": {
        "id": "fbdfd894-dee7-42ae-a811-1e375ff2c9d2"
      },
      "source": [
        "## chapter 2 : HTTP and Working with the Web"
      ]
    },
    {
      "cell_type": "markdown",
      "id": "d549ba4f-3ba8-4ddf-97d8-f3cc106acf8a",
      "metadata": {
        "id": "d549ba4f-3ba8-4ddf-97d8-f3cc106acf8a"
      },
      "source": [
        "## Requests with urllib"
      ]
    },
    {
      "cell_type": "code",
      "execution_count": null,
      "id": "ee848295-ce32-4d5e-9320-93c82611e008",
      "metadata": {
        "id": "ee848295-ce32-4d5e-9320-93c82611e008",
        "outputId": "00d87842-0103-4439-a60b-1e20d3fa4065"
      },
      "outputs": [
        {
          "data": {
            "text/plain": [
              "<http.client.HTTPResponse at 0x2297ad80ee0>"
            ]
          },
          "execution_count": 1,
          "metadata": {},
          "output_type": "execute_result"
        }
      ],
      "source": [
        "# Importing the urlopen function from the urllib.request module\n",
        "from urllib.request import urlopen\n",
        "# Making a request to the Debian website using the urlopen function\n",
        "response = urlopen('http://www.debian.org')\n",
        "# Printing or inspecting the response object\n",
        "response"
      ]
    },
    {
      "cell_type": "markdown",
      "id": "1182c3f8-cd1a-4c00-a5ec-89157fabfea2",
      "metadata": {
        "id": "1182c3f8-cd1a-4c00-a5ec-89157fabfea2"
      },
      "source": [
        "Hasil <http.client.HTTPResponse at 0x1ece6910580> yang Anda lihat adalah representasi objek HTTPResponse yang dikembalikan oleh fungsi urlopen. Ini menunjukkan bahwa koneksi ke situs web Debian telah berhasil, dan sekarang Anda memiliki objek respons yang berisi informasi tentang tanggapan dari server."
      ]
    },
    {
      "cell_type": "code",
      "execution_count": null,
      "id": "43fadd64-2033-4957-9caa-5d6768aa018d",
      "metadata": {
        "id": "43fadd64-2033-4957-9caa-5d6768aa018d",
        "outputId": "ae80c73a-a721-412a-80f5-fe4cf23eb45c"
      },
      "outputs": [
        {
          "data": {
            "text/plain": [
              "b'<!DOCTYPE html>\\n'"
            ]
          },
          "execution_count": 3,
          "metadata": {},
          "output_type": "execute_result"
        }
      ],
      "source": [
        "# read the next line from the file represented by the `response` objec\n",
        "response.readline()"
      ]
    },
    {
      "cell_type": "markdown",
      "id": "8fc025d7-db21-4c05-b5e5-4235d9419892",
      "metadata": {
        "id": "8fc025d7-db21-4c05-b5e5-4235d9419892"
      },
      "source": [
        "## Response Object"
      ]
    },
    {
      "cell_type": "code",
      "execution_count": null,
      "id": "b7bb458d-2cc6-4cf2-b72a-8f8348be7370",
      "metadata": {
        "id": "b7bb458d-2cc6-4cf2-b72a-8f8348be7370",
        "outputId": "8dbeb0c3-925a-4f78-acc5-201de4396212"
      },
      "outputs": [
        {
          "data": {
            "text/plain": [
              "b'<!DOCTYPE html>\\n<html lang=\"en\">\\n<head>\\n  <meta charset=\"utf-8\">\\n  <title>Debian -- The Universal Operating System </title>\\n  <link rel=\"author\" href=\"mailto:webmaster@debian.org\">\\n  <meta name=\"Description\" content=\"Debian is an operating system and a distribution of Free Software. It is maintained and updated through the work of many users who volunteer their time and effort.\">\\n  <meta name=\"Generator\" content=\"WML 2.32.0\">\\n  <meta name=\"Modified\" content=\"2023-09-28 23:28:43\">\\n  <meta name=\"viewport\" content=\"width=device-width\">\\n  <meta name=\"mobileoptimized\" content=\"300\">\\n  <meta name=\"HandheldFriendly\" content=\"true\">\\n<link rel=\"alternate\" type=\"application/rss+xml\"\\n title=\"Debian News\" href=\"News/news\">\\n<link rel=\"alternate\" type=\"application/rss+xml\"\\n title=\"Debian Project News\" href=\"News/weekly/dwn\">\\n<link rel=\"alternate\" type=\"application/rss+xml\"\\n title=\"Debian Security Advisories (titles only)\" href=\"security/dsa\">\\n<link rel=\"alternate\" type=\"application/rss+xml\"\\n title=\"Debian Security Advisories (summaries)\" href=\"security/dsa-long\">\\n<link href=\"./debhome.css\" rel=\"stylesheet\" type=\"text/css\">\\n   <link href=\"./startpage.css\" rel=\"stylesheet\" type=\"text/css\">\\n   <link href=\"./5img-carousel-slider.css\" rel=\"stylesheet\" type=\"text/css\">\\n  <link href=\"./debian-en.css\" rel=\"stylesheet\" type=\"text/css\" media=\"all\">\\n  <link rel=\"shortcut icon\" href=\"favicon.ico\">\\n  <meta name=\"Keywords\" content=\"debian, GNU, linux, unix, open source, free, DFSG\">\\n<link rel=\"search\" type=\"application/opensearchdescription+xml\" title=\"Debian website search\" href=\"./search.en.xml\">\\n</head>\\n<body>\\n<div id=\"header\">\\n  <div id=\"upperheader\">\\n    <div id=\"logo\">\\n    <a href=\"./\" title=\"Debian Home\"><img src=\"./Pics/openlogo-50.png\" alt=\"Debian\" width=\"50\" height=\"61\"></a>\\n    </div> <!-- end logo -->\\n    <div id=\"searchbox\">\\n      <form name=\"p\" method=\"get\" action=\"https://search.debian.org/cgi-bin/omega\">\\n      <p>\\n<input type=\"hidden\" name=\"DB\" value=\"en\">\\n        <input name=\"P\" value=\"\" size=\"14\">\\n        <input type=\"submit\" value=\"Search\">\\n      </p>\\n      </form>\\n    </div>   <!-- end sitetools -->\\n  </div> <!-- end upperheader -->\\n  <!--UdmComment-->\\n  <div id=\"navbar\">\\n    <p class=\"hidecss\"><a href=\"#content\">Skip Quicknav</a></p>\\n    <ul>\\n      <!-- Link to Debian\\'s own Social Media resources -->\\n      <li><a href=\"https://bits.debian.org/\" title=\"Bits from Debian\">Blog</a></li>\\n      <li><a href=\"https://micronews.debian.org\" title=\"Micronews from Debian\">Micronews</a></li>\\n      <li><a href=\"https://planet.debian.org/\" title=\"The Planet of Debian\">Planet</a></li>\\n    </ul>\\n  </div> <!-- end navbar -->\\n  <p id=\"breadcrumbs\">&nbsp; </p>\\n</div> <!-- end header -->\\n<!--/UdmComment-->\\n<section>\\n<div id=\"splash\">\\n  <h1>Debian</h1>\\n</div>\\n<!-- The first row of columns on the site. -->\\n<div class=\"row\">\\n  <div class=\"column column-left\">\\n    <div style=\"text-align: center\">\\n      <h1>The Community</h1>\\n      <h2>Debian is a Community of People!</h2>\\n<!-- The following div is containing the static image carousel.\\n     Currently made of five images. -->\\n<div class=\"wrapper\">\\n  <input checked type=\"radio\" name=\"slider\" id=\"slide1\">\\n  <input type=\"radio\" name=\"slider\" id=\"slide2\">\\n  <input type=\"radio\" name=\"slider\" id=\"slide3\">\\n  <input type=\"radio\" name=\"slider\" id=\"slide4\">\\n  <input type=\"radio\" name=\"slider\" id=\"slide5\">\\n  <input type=\"radio\" name=\"slider\" id=\"slide6\">\\n  <div class=\"slider-wrapper\">\\n    <div class=\"inner\">\\n     <article>\\n      <div class=\"info bottom-right\">\\n       <h3>DC22 Group Photo</h3>\\n      </div>\\n      <img src=\"Pics/debconf22_group_photo.jpg\" alt=\"DebConf22 Group Photo\" width=\"851\" height=\"575\">\\n     </article>\\n     <article>\\n      <div class=\"info top-left\">\\n       <h3>Debian Reunion Hamburg 2023</h3>\\n      </div>\\n      <img src=\"Pics/mini-dc23-hamburg.jpg\" alt=\"Group photo of the Debian Reunion Hamburg 2023\" width=\"1024\" height=\"575\">\\n     </article>\\n     <article>\\n      <div class=\"info top-left\">\\n       <h3>MiniDebConf Bras\\xc3\\xadlia 2023</h3>\\n      </div>\\n      <img src=\"Pics/mini-dc23-brasilia.jpg\" alt=\"Group photo of the MiniDebConf Bras\\xc3\\xadlia 2023\" width=\"1024\" height=\"575\">\\n     </article>\\n     <article>\\n      <div class=\"info top-left\">\\n       <h3>Screenshot Calamares Installer</h3>\\n      </div>\\n      <img src=\"Pics/calamares-bookworm.png\" alt=\"Screenshot from the Calamares installer\" width=\"1024\" height=\"575\">\\n     </article>\\n     <article>\\n      <div class=\"info top-left\">\\n       <h3>Debian is like a Swiss Army Knife</h3>\\n      </div>\\n      <img src=\"Pics/debian-swiss-knife-hands-1024x576.jpg\" alt=\"Debian is like a Swiss Army Knife\" width=\"1024\" height=\"576\">\\n     </article>\\n     <article>\\n      <div class=\"info top-left\">\\n       <h3>People have fun with Debian</h3>\\n      </div>\\n      <img src=\"Pics/debian-funny-people-1024x576.jpg\" alt=\"Debian people at Debconf18 in Hsinchu really having fun\" width=\"1024\" height=\"576\">\\n     </article>\\n    </div>  <!-- .inner -->\\n  </div>  <!-- .slider-wrapper -->\\n  <div class=\"slider-prev-next-control\">\\n   <label for=\"slide1\"></label>\\n   <label for=\"slide2\"></label>\\n   <label for=\"slide3\"></label>\\n   <label for=\"slide4\"></label>\\n   <label for=\"slide5\"></label>\\n   <label for=\"slide6\"></label>\\n  </div>  <!-- .slider-prev-next-control -->\\n  <div class=\"slider-dot-control\">\\n   <label for=\"slide1\"></label>\\n   <label for=\"slide2\"></label>\\n   <label for=\"slide3\"></label>\\n   <label for=\"slide4\"></label>\\n   <label for=\"slide5\"></label>\\n   <label for=\"slide6\"></label>\\n  </div>  <!-- .slider-dot-control -->\\n </div>\\n</div>\\n    <div class=\"row\">\\n      <div class=\"community column\">\\n        <a href=\"intro/people\" aria-hidden=\"true\">\\n          <img src=\"Pics/users.svg\" width=\"512\" alt=\"\">\\n        </a>\\n      </div>\\n      <div class=\"styled-href-blue column-4-parts\">\\n        <h2><a href=\"intro/people\">People</a></h2>\\n        <p>Who we are and what we do</p>\\n      </div>\\n    </div>\\n    <div class=\"row\">\\n      <div class=\"community column\">\\n        <a href=\"intro/philosophy\" aria-hidden=\"true\">\\n          <img src=\"Pics/heartbeat.svg\" width=\"512\" alt=\"\">\\n        </a>\\n      </div>\\n      <div class=\"styled-href-blue column-4-parts\">\\n        <h2><a href=\"intro/philosophy\">Our Philosophy</a></h2>\\n        <p>Why we do it, and how we do it</p>\\n      </div>\\n    </div>\\n    <div class=\"row\">\\n      <div class=\"community column\">\\n        <a href=\"devel/join/\" aria-hidden=\"true\">\\n          <img src=\"Pics/user-plus.svg\" width=\"512\" alt=\"\">\\n        </a>\\n      </div>\\n      <div class=\"styled-href-blue column-4-parts\">\\n        <h2><a href=\"devel/join/\">Get Involved, Contribute</a></h2>\\n        <p>How you can join us!</p>\\n      </div>\\n    </div>\\n    <div class=\"row\">\\n      <div class=\"community column\">\\n        <a href=\"intro/index#community\" aria-hidden=\"true\">\\n          <img src=\"Pics/list.svg\" width=\"512\" alt=\"\">\\n        </a>\\n      </div>\\n      <div class=\"styled-href-blue column-4-parts\">\\n        <h2><a href=\"intro/index#community\">More...</a></h2>\\n        <p>Additional information about the Debian community</p>\\n      </div>\\n    </div>\\n  </div>\\n  <div class=\"column column-right\">\\n    <div style=\"text-align: center\">\\n      <h1>The Operating System</h1>\\n      <h2>Debian is a complete Free Operating System!</h2>\\n      <div class=\"os-img-container\">\\n        <img src=\"Pics/debian-logo-1024x576.png\" alt=\"Debian\" width=\"1024\" height=\"576\">\\n        <a href=\"https://cdimage.debian.org/debian-cd/current/amd64/iso-cd/debian-12.1.0-amd64-netinst.iso\" class=\"os-dl-btn\">Download</a>\\n        <a href=\"distrib\" class=\"os-other-download\">Other downloads</a>\\n</div>\\n    </div>\\n    <div class=\"row\">\\n      <div class=\"community column\">\\n        <a href=\"intro/why_debian\" aria-hidden=\"true\">\\n          <img src=\"Pics/trophy.svg\" width=\"512\" alt=\"\">\\n        </a>\\n      </div>\\n      <div class=\"styled-href-blue column-4-parts\">\\n        <h2><a href=\"intro/why_debian\">Why Debian</a></h2>\\n        <p>What makes Debian special</p>\\n      </div>\\n    </div>\\n    <div class=\"row\">\\n      <div class=\"community column\">\\n        <a href=\"support\" aria-hidden=\"true\">\\n          <img src=\"Pics/life-ring.svg\" width=\"512\" alt=\"\">\\n        </a>\\n      </div>\\n      <div class=\"styled-href-blue column-4-parts\">\\n        <h2><a href=\"support\">User Support</a></h2>\\n        <p>Getting help and documentation</p>\\n      </div>\\n    </div>\\n    <div class=\"row\">\\n      <div class=\"community column\">\\n        <a href=\"security/\" aria-hidden=\"true\">\\n          <img src=\"Pics/security.svg\" width=\"512\" alt=\"\">\\n        </a>\\n      </div>\\n      <div class=\"styled-href-blue column-4-parts\">\\n        <h2><a href=\"security/\">Security Updates</a></h2>\\n        <p>Debian Security Advisories (DSA)</p>\\n      </div>\\n    </div>\\n    <div class=\"row\">\\n      <div class=\"community column\">\\n        <a href=\"intro/index#software\" aria-hidden=\"true\">\\n          <img src=\"Pics/list.svg\" width=\"512\" alt=\"\">\\n        </a>\\n      </div>\\n      <div class=\"styled-href-blue column-4-parts\">\\n        <h2><a href=\"intro/index#software\">More...</a></h2>\\n        <p>Further links to downloads and software</p>\\n      </div>\\n    </div>\\n  </div>\\n</div>\\n<hr>\\n<!-- An optional row highlighting events happening now, such as releases, point releases, debconf and minidebconfs, and elections (dpl, GRs...). -->\\n<!-- The next row of columns on the site. -->\\n<!-- The News will be selected by the press team. -->\\n<div class=\"row\">\\n  <div class=\"column styled-href-blue column-left\">\\n    <div style=\"text-align: center\">\\n      <h1>Project News</h1>\\n      <h2>News and Announcements about Debian</h2>\\n    </div>\\n    <div class=\"project-news\"><time datetime=\"2023-09-18\" class=\"date-as-calendar position-em size1_25x\"><span class=\"day\">18</span><span class=\"month\">September</span><span class=\"year\">2023</span></time><div class=\"project-news-content\"><a href=\"News/2023/20230918\">DebConf23 closes in Kochi and DebConf24 location announced</a></div></div>\\n<div class=\"project-news\"><time datetime=\"2023-09-14\" class=\"date-as-calendar position-em size1_25x\"><span class=\"day\">14</span><span class=\"month\">September</span><span class=\"year\">2023</span></time><div class=\"project-news-content\"><a href=\"News/2023/20230914\">The Debian Project mourns the loss of Abraham Raji</a></div></div>\\n<div class=\"project-news\"><time datetime=\"2023-07-22\" class=\"date-as-calendar position-em size1_25x\"><span class=\"day\">22</span><span class=\"month\">July</span><span class=\"year\">2023</span></time><div class=\"project-news-content\"><a href=\"News/2023/20230722\">Updated Debian 12: 12.1 released</a></div></div>\\n<div class=\"project-news\"><time datetime=\"2023-06-10\" class=\"date-as-calendar position-em size1_25x\"><span class=\"day\">10</span><span class=\"month\">June</span><span class=\"year\">2023</span></time><div class=\"project-news-content\"><a href=\"News/2023/20230610\">Debian 12 <q>bookworm</q> released</a></div></div>\\n<div class=\"project-news\"><time datetime=\"2023-04-29\" class=\"date-as-calendar position-em size1_25x\"><span class=\"day\">29</span><span class=\"month\">April</span><span class=\"year\">2023</span></time><div class=\"project-news-content\"><a href=\"News/2023/20230429\">Updated Debian 11: 11.7 released</a></div></div>\\n    <!-- No more News entries behind this line! -->\\n    <div class=\"project-news\">\\n      <div class=\"end-of-list-arrow\"></div>\\n      <div class=\"project-news-content project-news-content-end\">\\n        <a href=\"News\">All the news</a> &emsp;&emsp;\\n\\t<a class=\"rss_logo\" style=\"float: none\" href=\"News/news\">RSS</a>\\n      </div>\\n    </div>\\n  </div>\\n</div>\\n<div class=\"clr\"></div>\\n</section> <!-- end content -->\\n<footer id=\"footer\">\\n  <hr class=\"hidecss\">\\n  <!--UdmComment-->\\n<div id=\"pageLang\">\\n<div id=\"langSelector\">\\nThis page is also available in the following languages:\\n<div id=\"langContainer\">\\n <a href=\"index.ar.html\" title=\"Arabic\" hreflang=\"ar\" lang=\"ar\" rel=\"alternate\">&#1593;&#1585;&#1576;&#1610;&#1577;&nbsp;(Arabiya)</a>\\n <a href=\"index.bg.html\" title=\"Bulgarian\" hreflang=\"bg\" lang=\"bg\" rel=\"alternate\">&#1041;&#1098;&#1083;&#1075;&#1072;&#1088;&#1089;&#1082;&#1080;&nbsp;(B&#601;lgarski)</a>\\n <a href=\"index.ca.html\" title=\"Catalan\" hreflang=\"ca\" lang=\"ca\" rel=\"alternate\">catal&agrave;</a>\\n <a href=\"index.da.html\" title=\"Danish\" hreflang=\"da\" lang=\"da\" rel=\"alternate\">dansk</a>\\n <a href=\"index.de.html\" title=\"German\" hreflang=\"de\" lang=\"de\" rel=\"alternate\">Deutsch</a>\\n <a href=\"index.el.html\" title=\"Greek\" hreflang=\"el\" lang=\"el\" rel=\"alternate\">&#917;&#955;&#955;&#951;&#957;&#953;&#954;&#940;&nbsp;(Ellinika)</a>\\n <a href=\"index.es.html\" title=\"Spanish\" hreflang=\"es\" lang=\"es\" rel=\"alternate\">espa&ntilde;ol</a>\\n <a href=\"index.fa.html\" title=\"Persian\" hreflang=\"fa\" lang=\"fa\" rel=\"alternate\">&#x0641;&#x0627;&#x0631;&#x0633;&#x06cc;&nbsp;(Farsi)</a>\\n <a href=\"index.fr.html\" title=\"French\" hreflang=\"fr\" lang=\"fr\" rel=\"alternate\">fran&ccedil;ais</a>\\n <a href=\"index.gl.html\" title=\"Galician\" hreflang=\"gl\" lang=\"gl\" rel=\"alternate\">Galego</a>\\n <a href=\"index.hy.html\" title=\"Armenian\" hreflang=\"hy\" lang=\"hy\" rel=\"alternate\">&#1344;&#1377;&#1397;&#1381;&#1408;&#1381;&#1398;&nbsp;(hayeren)</a>\\n <a href=\"index.id.html\" title=\"Indonesian\" hreflang=\"id\" lang=\"id\" rel=\"alternate\">Indonesia</a>\\n <a href=\"index.it.html\" title=\"Italian\" hreflang=\"it\" lang=\"it\" rel=\"alternate\">Italiano</a>\\n <a href=\"index.ko.html\" title=\"Korean\" hreflang=\"ko\" lang=\"ko\" rel=\"alternate\">&#54620;&#44397;&#50612;&nbsp;(Korean)</a>\\n <a href=\"index.hu.html\" title=\"Hungarian\" hreflang=\"hu\" lang=\"hu\" rel=\"alternate\">magyar</a>\\n <a href=\"index.nl.html\" title=\"Dutch\" hreflang=\"nl\" lang=\"nl\" rel=\"alternate\">Nederlands</a>\\n <a href=\"index.nb.html\" title=\"Norwegian\" hreflang=\"nb\" lang=\"nb\" rel=\"alternate\">norsk&nbsp;(bokm&aring;l)</a>\\n <a href=\"index.pl.html\" title=\"Polish\" hreflang=\"pl\" lang=\"pl\" rel=\"alternate\">polski</a>\\n <a href=\"index.pt.html\" title=\"Portuguese\" hreflang=\"pt\" lang=\"pt\" rel=\"alternate\">Portugu&ecirc;s</a>\\n <a href=\"index.ru.html\" title=\"Russian\" hreflang=\"ru\" lang=\"ru\" rel=\"alternate\">&#1056;&#1091;&#1089;&#1089;&#1082;&#1080;&#1081;&nbsp;(Russkij)</a>\\n <a href=\"index.fi.html\" title=\"Finnish\" hreflang=\"fi\" lang=\"fi\" rel=\"alternate\">suomi</a>\\n <a href=\"index.sv.html\" title=\"Swedish\" hreflang=\"sv\" lang=\"sv\" rel=\"alternate\">svenska</a>\\n <a href=\"index.vi.html\" title=\"Vietnamese\" hreflang=\"vi\" lang=\"vi\" rel=\"alternate\">Ti&#7871;ng Vi&#7879;t</a>\\n <a href=\"index.uk.html\" title=\"Ukrainian\" hreflang=\"uk\" lang=\"uk\" rel=\"alternate\">&#1091;&#1082;&#1088;&#1072;&#1111;&#1085;&#1089;&#1100;&#1082;&#1072;&nbsp;(ukrajins\\'ka)</a>\\n <a href=\"index.zh-cn.html\" title=\"Chinese (China)\" hreflang=\"zh-CN\" lang=\"zh-CN\" rel=\"alternate\">&#20013;&#25991;(&#31616;)</a>\\n <a href=\"index.zh-hk.html\" title=\"Chinese (Hong Kong)\" hreflang=\"zh-HK\" lang=\"zh-HK\" rel=\"alternate\">&#20013;&#25991;(HK)</a>\\n <a href=\"index.zh-tw.html\" title=\"Chinese (Taiwan)\" hreflang=\"zh-TW\" lang=\"zh-TW\" rel=\"alternate\">&#20013;&#25991;(&#32321;)</a>\\n</div>\\nHow to set <a href=\"./intro/cn\">the default document language</a>\\n</div></div><!--/UdmComment-->\\n<hr>\\n<!--UdmComment-->\\n<div id=\"fineprint\">\\n  <p>See our <a href=\"./contact\">contact page</a> to get in touch. Web site source code is <a href=\"https://salsa.debian.org/webmaster-team/webwml\">available</a>.</p>\\n<p>\\nLast Modified: Sun, Sep 17 04:58:52 UTC 2023\\n&emsp;\\nLast Built: Thu, Sep 28 23:28:44 UTC 2023\\n  <br>\\n  Copyright &copy; 1997-2023\\n <a href=\"https://www.spi-inc.org/\">SPI</a> and others; See <a href=\"./license\" rel=\"copyright\">license terms</a><br>\\n  Debian is a registered <a href=\"./trademark\">trademark</a> of Software in the Public Interest, Inc.\\n</p>\\n</div>\\n<!--/UdmComment-->\\n</footer> <!-- end footer -->\\n</body>\\n</html>\\n'"
            ]
          },
          "execution_count": 4,
          "metadata": {},
          "output_type": "execute_result"
        }
      ],
      "source": [
        "# # Making a request to the Debian website using the urlopen function\n",
        "response = urlopen('http://www.debian.org')\n",
        "response.read()"
      ]
    },
    {
      "cell_type": "code",
      "execution_count": null,
      "id": "ee7edee0-f998-43d3-8e61-c20c2cc0980a",
      "metadata": {
        "id": "ee7edee0-f998-43d3-8e61-c20c2cc0980a",
        "outputId": "0eb862b4-83bf-4019-ab49-ad44a13a9b1a"
      },
      "outputs": [
        {
          "data": {
            "text/plain": [
              "b''"
            ]
          },
          "execution_count": 5,
          "metadata": {},
          "output_type": "execute_result"
        }
      ],
      "source": [
        "response.read()"
      ]
    },
    {
      "cell_type": "markdown",
      "id": "6f0d7ce4-a041-4b83-8d29-29973b230295",
      "metadata": {
        "id": "6f0d7ce4-a041-4b83-8d29-29973b230295"
      },
      "source": [
        "## Status Code"
      ]
    },
    {
      "cell_type": "code",
      "execution_count": null,
      "id": "f249d36b-3046-458d-92da-58c7b35d35e9",
      "metadata": {
        "id": "f249d36b-3046-458d-92da-58c7b35d35e9",
        "outputId": "913f94bb-be29-45b6-d7bb-8fad572348bc"
      },
      "outputs": [
        {
          "data": {
            "text/plain": [
              "200"
            ]
          },
          "execution_count": 6,
          "metadata": {},
          "output_type": "execute_result"
        }
      ],
      "source": [
        "response.status"
      ]
    },
    {
      "cell_type": "markdown",
      "id": "04ed78c5-1165-4001-85dc-25fdb2316608",
      "metadata": {
        "id": "04ed78c5-1165-4001-85dc-25fdb2316608"
      },
      "source": [
        "## Handling problems"
      ]
    },
    {
      "cell_type": "code",
      "execution_count": null,
      "id": "5216e127-02c4-4214-b85d-97c3dced846c",
      "metadata": {
        "id": "5216e127-02c4-4214-b85d-97c3dced846c",
        "outputId": "5ef61ed6-e1f7-404f-ac67-654f8836af28"
      },
      "outputs": [
        {
          "name": "stdout",
          "output_type": "stream",
          "text": [
            "status 404\n",
            "reason Not Found\n",
            "url https://www.ietf.org/rfc/rfc0.txt\n"
          ]
        }
      ],
      "source": [
        "import urllib.error\n",
        "from urllib.request import urlopen\n",
        "try:\n",
        "    # Attempting to open the specified URL\n",
        "    urlopen('http://www.ietf.org/rfc/rfc0.txt')\n",
        "# Handling HTTPError exception if it occurs\n",
        "except urllib.error.HTTPError as e:\n",
        "    print('status', e.code) # Printing the HTTP status code\n",
        "    print('reason', e.reason) # Printing the reason for the HTTP error\n",
        "    print('url', e.url) # Printing the URL that caused the HTTP error"
      ]
    },
    {
      "cell_type": "code",
      "execution_count": null,
      "id": "6a740bff-0686-49a6-a895-0fe401e3c006",
      "metadata": {
        "id": "6a740bff-0686-49a6-a895-0fe401e3c006",
        "outputId": "785e90c2-1a0a-4ef4-91d2-a672b02b5022"
      },
      "outputs": [
        {
          "ename": "URLError",
          "evalue": "<urlopen error [WinError 10060] A connection attempt failed because the connected party did not properly respond after a period of time, or established connection failed because connected host has failed to respond>",
          "output_type": "error",
          "traceback": [
            "\u001b[1;31m---------------------------------------------------------------------\u001b[0m",
            "\u001b[1;31mTimeoutError\u001b[0m                        Traceback (most recent call last)",
            "File \u001b[1;32m~\\AppData\\Local\\Programs\\Python\\Python310\\lib\\urllib\\request.py:1348\u001b[0m, in \u001b[0;36mAbstractHTTPHandler.do_open\u001b[1;34m(self, http_class, req, **http_conn_args)\u001b[0m\n\u001b[0;32m   1347\u001b[0m \u001b[38;5;28;01mtry\u001b[39;00m:\n\u001b[1;32m-> 1348\u001b[0m     \u001b[43mh\u001b[49m\u001b[38;5;241;43m.\u001b[39;49m\u001b[43mrequest\u001b[49m\u001b[43m(\u001b[49m\u001b[43mreq\u001b[49m\u001b[38;5;241;43m.\u001b[39;49m\u001b[43mget_method\u001b[49m\u001b[43m(\u001b[49m\u001b[43m)\u001b[49m\u001b[43m,\u001b[49m\u001b[43m \u001b[49m\u001b[43mreq\u001b[49m\u001b[38;5;241;43m.\u001b[39;49m\u001b[43mselector\u001b[49m\u001b[43m,\u001b[49m\u001b[43m \u001b[49m\u001b[43mreq\u001b[49m\u001b[38;5;241;43m.\u001b[39;49m\u001b[43mdata\u001b[49m\u001b[43m,\u001b[49m\u001b[43m \u001b[49m\u001b[43mheaders\u001b[49m\u001b[43m,\u001b[49m\n\u001b[0;32m   1349\u001b[0m \u001b[43m              \u001b[49m\u001b[43mencode_chunked\u001b[49m\u001b[38;5;241;43m=\u001b[39;49m\u001b[43mreq\u001b[49m\u001b[38;5;241;43m.\u001b[39;49m\u001b[43mhas_header\u001b[49m\u001b[43m(\u001b[49m\u001b[38;5;124;43m'\u001b[39;49m\u001b[38;5;124;43mTransfer-encoding\u001b[39;49m\u001b[38;5;124;43m'\u001b[39;49m\u001b[43m)\u001b[49m\u001b[43m)\u001b[49m\n\u001b[0;32m   1350\u001b[0m \u001b[38;5;28;01mexcept\u001b[39;00m \u001b[38;5;167;01mOSError\u001b[39;00m \u001b[38;5;28;01mas\u001b[39;00m err: \u001b[38;5;66;03m# timeout error\u001b[39;00m\n",
            "File \u001b[1;32m~\\AppData\\Local\\Programs\\Python\\Python310\\lib\\http\\client.py:1282\u001b[0m, in \u001b[0;36mHTTPConnection.request\u001b[1;34m(self, method, url, body, headers, encode_chunked)\u001b[0m\n\u001b[0;32m   1281\u001b[0m \u001b[38;5;250m\u001b[39m\u001b[38;5;124;03m\"\"\"Send a complete request to the server.\"\"\"\u001b[39;00m\n\u001b[1;32m-> 1282\u001b[0m \u001b[38;5;28;43mself\u001b[39;49m\u001b[38;5;241;43m.\u001b[39;49m\u001b[43m_send_request\u001b[49m\u001b[43m(\u001b[49m\u001b[43mmethod\u001b[49m\u001b[43m,\u001b[49m\u001b[43m \u001b[49m\u001b[43murl\u001b[49m\u001b[43m,\u001b[49m\u001b[43m \u001b[49m\u001b[43mbody\u001b[49m\u001b[43m,\u001b[49m\u001b[43m \u001b[49m\u001b[43mheaders\u001b[49m\u001b[43m,\u001b[49m\u001b[43m \u001b[49m\u001b[43mencode_chunked\u001b[49m\u001b[43m)\u001b[49m\n",
            "File \u001b[1;32m~\\AppData\\Local\\Programs\\Python\\Python310\\lib\\http\\client.py:1328\u001b[0m, in \u001b[0;36mHTTPConnection._send_request\u001b[1;34m(self, method, url, body, headers, encode_chunked)\u001b[0m\n\u001b[0;32m   1327\u001b[0m     body \u001b[38;5;241m=\u001b[39m _encode(body, \u001b[38;5;124m'\u001b[39m\u001b[38;5;124mbody\u001b[39m\u001b[38;5;124m'\u001b[39m)\n\u001b[1;32m-> 1328\u001b[0m \u001b[38;5;28;43mself\u001b[39;49m\u001b[38;5;241;43m.\u001b[39;49m\u001b[43mendheaders\u001b[49m\u001b[43m(\u001b[49m\u001b[43mbody\u001b[49m\u001b[43m,\u001b[49m\u001b[43m \u001b[49m\u001b[43mencode_chunked\u001b[49m\u001b[38;5;241;43m=\u001b[39;49m\u001b[43mencode_chunked\u001b[49m\u001b[43m)\u001b[49m\n",
            "File \u001b[1;32m~\\AppData\\Local\\Programs\\Python\\Python310\\lib\\http\\client.py:1277\u001b[0m, in \u001b[0;36mHTTPConnection.endheaders\u001b[1;34m(self, message_body, encode_chunked)\u001b[0m\n\u001b[0;32m   1276\u001b[0m     \u001b[38;5;28;01mraise\u001b[39;00m CannotSendHeader()\n\u001b[1;32m-> 1277\u001b[0m \u001b[38;5;28;43mself\u001b[39;49m\u001b[38;5;241;43m.\u001b[39;49m\u001b[43m_send_output\u001b[49m\u001b[43m(\u001b[49m\u001b[43mmessage_body\u001b[49m\u001b[43m,\u001b[49m\u001b[43m \u001b[49m\u001b[43mencode_chunked\u001b[49m\u001b[38;5;241;43m=\u001b[39;49m\u001b[43mencode_chunked\u001b[49m\u001b[43m)\u001b[49m\n",
            "File \u001b[1;32m~\\AppData\\Local\\Programs\\Python\\Python310\\lib\\http\\client.py:1037\u001b[0m, in \u001b[0;36mHTTPConnection._send_output\u001b[1;34m(self, message_body, encode_chunked)\u001b[0m\n\u001b[0;32m   1036\u001b[0m \u001b[38;5;28;01mdel\u001b[39;00m \u001b[38;5;28mself\u001b[39m\u001b[38;5;241m.\u001b[39m_buffer[:]\n\u001b[1;32m-> 1037\u001b[0m \u001b[38;5;28;43mself\u001b[39;49m\u001b[38;5;241;43m.\u001b[39;49m\u001b[43msend\u001b[49m\u001b[43m(\u001b[49m\u001b[43mmsg\u001b[49m\u001b[43m)\u001b[49m\n\u001b[0;32m   1039\u001b[0m \u001b[38;5;28;01mif\u001b[39;00m message_body \u001b[38;5;129;01mis\u001b[39;00m \u001b[38;5;129;01mnot\u001b[39;00m \u001b[38;5;28;01mNone\u001b[39;00m:\n\u001b[0;32m   1040\u001b[0m \n\u001b[0;32m   1041\u001b[0m     \u001b[38;5;66;03m# create a consistent interface to message_body\u001b[39;00m\n",
            "File \u001b[1;32m~\\AppData\\Local\\Programs\\Python\\Python310\\lib\\http\\client.py:975\u001b[0m, in \u001b[0;36mHTTPConnection.send\u001b[1;34m(self, data)\u001b[0m\n\u001b[0;32m    974\u001b[0m \u001b[38;5;28;01mif\u001b[39;00m \u001b[38;5;28mself\u001b[39m\u001b[38;5;241m.\u001b[39mauto_open:\n\u001b[1;32m--> 975\u001b[0m     \u001b[38;5;28;43mself\u001b[39;49m\u001b[38;5;241;43m.\u001b[39;49m\u001b[43mconnect\u001b[49m\u001b[43m(\u001b[49m\u001b[43m)\u001b[49m\n\u001b[0;32m    976\u001b[0m \u001b[38;5;28;01melse\u001b[39;00m:\n",
            "File \u001b[1;32m~\\AppData\\Local\\Programs\\Python\\Python310\\lib\\http\\client.py:941\u001b[0m, in \u001b[0;36mHTTPConnection.connect\u001b[1;34m(self)\u001b[0m\n\u001b[0;32m    940\u001b[0m sys\u001b[38;5;241m.\u001b[39maudit(\u001b[38;5;124m\"\u001b[39m\u001b[38;5;124mhttp.client.connect\u001b[39m\u001b[38;5;124m\"\u001b[39m, \u001b[38;5;28mself\u001b[39m, \u001b[38;5;28mself\u001b[39m\u001b[38;5;241m.\u001b[39mhost, \u001b[38;5;28mself\u001b[39m\u001b[38;5;241m.\u001b[39mport)\n\u001b[1;32m--> 941\u001b[0m \u001b[38;5;28mself\u001b[39m\u001b[38;5;241m.\u001b[39msock \u001b[38;5;241m=\u001b[39m \u001b[38;5;28;43mself\u001b[39;49m\u001b[38;5;241;43m.\u001b[39;49m\u001b[43m_create_connection\u001b[49m\u001b[43m(\u001b[49m\n\u001b[0;32m    942\u001b[0m \u001b[43m    \u001b[49m\u001b[43m(\u001b[49m\u001b[38;5;28;43mself\u001b[39;49m\u001b[38;5;241;43m.\u001b[39;49m\u001b[43mhost\u001b[49m\u001b[43m,\u001b[49m\u001b[38;5;28;43mself\u001b[39;49m\u001b[38;5;241;43m.\u001b[39;49m\u001b[43mport\u001b[49m\u001b[43m)\u001b[49m\u001b[43m,\u001b[49m\u001b[43m \u001b[49m\u001b[38;5;28;43mself\u001b[39;49m\u001b[38;5;241;43m.\u001b[39;49m\u001b[43mtimeout\u001b[49m\u001b[43m,\u001b[49m\u001b[43m \u001b[49m\u001b[38;5;28;43mself\u001b[39;49m\u001b[38;5;241;43m.\u001b[39;49m\u001b[43msource_address\u001b[49m\u001b[43m)\u001b[49m\n\u001b[0;32m    943\u001b[0m \u001b[38;5;66;03m# Might fail in OSs that don't implement TCP_NODELAY\u001b[39;00m\n",
            "File \u001b[1;32m~\\AppData\\Local\\Programs\\Python\\Python310\\lib\\socket.py:845\u001b[0m, in \u001b[0;36mcreate_connection\u001b[1;34m(address, timeout, source_address)\u001b[0m\n\u001b[0;32m    844\u001b[0m \u001b[38;5;28;01mtry\u001b[39;00m:\n\u001b[1;32m--> 845\u001b[0m     \u001b[38;5;28;01mraise\u001b[39;00m err\n\u001b[0;32m    846\u001b[0m \u001b[38;5;28;01mfinally\u001b[39;00m:\n\u001b[0;32m    847\u001b[0m     \u001b[38;5;66;03m# Break explicitly a reference cycle\u001b[39;00m\n",
            "File \u001b[1;32m~\\AppData\\Local\\Programs\\Python\\Python310\\lib\\socket.py:833\u001b[0m, in \u001b[0;36mcreate_connection\u001b[1;34m(address, timeout, source_address)\u001b[0m\n\u001b[0;32m    832\u001b[0m     sock\u001b[38;5;241m.\u001b[39mbind(source_address)\n\u001b[1;32m--> 833\u001b[0m \u001b[43msock\u001b[49m\u001b[38;5;241;43m.\u001b[39;49m\u001b[43mconnect\u001b[49m\u001b[43m(\u001b[49m\u001b[43msa\u001b[49m\u001b[43m)\u001b[49m\n\u001b[0;32m    834\u001b[0m \u001b[38;5;66;03m# Break explicitly a reference cycle\u001b[39;00m\n",
            "\u001b[1;31mTimeoutError\u001b[0m: [WinError 10060] A connection attempt failed because the connected party did not properly respond after a period of time, or established connection failed because connected host has failed to respond",
            "\nDuring handling of the above exception, another exception occurred:\n",
            "\u001b[1;31mURLError\u001b[0m                            Traceback (most recent call last)",
            "Cell \u001b[1;32mIn[9], line 1\u001b[0m\n\u001b[1;32m----> 1\u001b[0m \u001b[43murlopen\u001b[49m\u001b[43m(\u001b[49m\u001b[38;5;124;43m'\u001b[39;49m\u001b[38;5;124;43mhttp://192.0.2.1/index.html\u001b[39;49m\u001b[38;5;124;43m'\u001b[39;49m\u001b[43m)\u001b[49m\n",
            "File \u001b[1;32m~\\AppData\\Local\\Programs\\Python\\Python310\\lib\\urllib\\request.py:216\u001b[0m, in \u001b[0;36murlopen\u001b[1;34m(url, data, timeout, cafile, capath, cadefault, context)\u001b[0m\n\u001b[0;32m    214\u001b[0m \u001b[38;5;28;01melse\u001b[39;00m:\n\u001b[0;32m    215\u001b[0m     opener \u001b[38;5;241m=\u001b[39m _opener\n\u001b[1;32m--> 216\u001b[0m \u001b[38;5;28;01mreturn\u001b[39;00m \u001b[43mopener\u001b[49m\u001b[38;5;241;43m.\u001b[39;49m\u001b[43mopen\u001b[49m\u001b[43m(\u001b[49m\u001b[43murl\u001b[49m\u001b[43m,\u001b[49m\u001b[43m \u001b[49m\u001b[43mdata\u001b[49m\u001b[43m,\u001b[49m\u001b[43m \u001b[49m\u001b[43mtimeout\u001b[49m\u001b[43m)\u001b[49m\n",
            "File \u001b[1;32m~\\AppData\\Local\\Programs\\Python\\Python310\\lib\\urllib\\request.py:519\u001b[0m, in \u001b[0;36mOpenerDirector.open\u001b[1;34m(self, fullurl, data, timeout)\u001b[0m\n\u001b[0;32m    516\u001b[0m     req \u001b[38;5;241m=\u001b[39m meth(req)\n\u001b[0;32m    518\u001b[0m sys\u001b[38;5;241m.\u001b[39maudit(\u001b[38;5;124m'\u001b[39m\u001b[38;5;124murllib.Request\u001b[39m\u001b[38;5;124m'\u001b[39m, req\u001b[38;5;241m.\u001b[39mfull_url, req\u001b[38;5;241m.\u001b[39mdata, req\u001b[38;5;241m.\u001b[39mheaders, req\u001b[38;5;241m.\u001b[39mget_method())\n\u001b[1;32m--> 519\u001b[0m response \u001b[38;5;241m=\u001b[39m \u001b[38;5;28;43mself\u001b[39;49m\u001b[38;5;241;43m.\u001b[39;49m\u001b[43m_open\u001b[49m\u001b[43m(\u001b[49m\u001b[43mreq\u001b[49m\u001b[43m,\u001b[49m\u001b[43m \u001b[49m\u001b[43mdata\u001b[49m\u001b[43m)\u001b[49m\n\u001b[0;32m    521\u001b[0m \u001b[38;5;66;03m# post-process response\u001b[39;00m\n\u001b[0;32m    522\u001b[0m meth_name \u001b[38;5;241m=\u001b[39m protocol\u001b[38;5;241m+\u001b[39m\u001b[38;5;124m\"\u001b[39m\u001b[38;5;124m_response\u001b[39m\u001b[38;5;124m\"\u001b[39m\n",
            "File \u001b[1;32m~\\AppData\\Local\\Programs\\Python\\Python310\\lib\\urllib\\request.py:536\u001b[0m, in \u001b[0;36mOpenerDirector._open\u001b[1;34m(self, req, data)\u001b[0m\n\u001b[0;32m    533\u001b[0m     \u001b[38;5;28;01mreturn\u001b[39;00m result\n\u001b[0;32m    535\u001b[0m protocol \u001b[38;5;241m=\u001b[39m req\u001b[38;5;241m.\u001b[39mtype\n\u001b[1;32m--> 536\u001b[0m result \u001b[38;5;241m=\u001b[39m \u001b[38;5;28;43mself\u001b[39;49m\u001b[38;5;241;43m.\u001b[39;49m\u001b[43m_call_chain\u001b[49m\u001b[43m(\u001b[49m\u001b[38;5;28;43mself\u001b[39;49m\u001b[38;5;241;43m.\u001b[39;49m\u001b[43mhandle_open\u001b[49m\u001b[43m,\u001b[49m\u001b[43m \u001b[49m\u001b[43mprotocol\u001b[49m\u001b[43m,\u001b[49m\u001b[43m \u001b[49m\u001b[43mprotocol\u001b[49m\u001b[43m \u001b[49m\u001b[38;5;241;43m+\u001b[39;49m\n\u001b[0;32m    537\u001b[0m \u001b[43m                          \u001b[49m\u001b[38;5;124;43m'\u001b[39;49m\u001b[38;5;124;43m_open\u001b[39;49m\u001b[38;5;124;43m'\u001b[39;49m\u001b[43m,\u001b[49m\u001b[43m \u001b[49m\u001b[43mreq\u001b[49m\u001b[43m)\u001b[49m\n\u001b[0;32m    538\u001b[0m \u001b[38;5;28;01mif\u001b[39;00m result:\n\u001b[0;32m    539\u001b[0m     \u001b[38;5;28;01mreturn\u001b[39;00m result\n",
            "File \u001b[1;32m~\\AppData\\Local\\Programs\\Python\\Python310\\lib\\urllib\\request.py:496\u001b[0m, in \u001b[0;36mOpenerDirector._call_chain\u001b[1;34m(self, chain, kind, meth_name, *args)\u001b[0m\n\u001b[0;32m    494\u001b[0m \u001b[38;5;28;01mfor\u001b[39;00m handler \u001b[38;5;129;01min\u001b[39;00m handlers:\n\u001b[0;32m    495\u001b[0m     func \u001b[38;5;241m=\u001b[39m \u001b[38;5;28mgetattr\u001b[39m(handler, meth_name)\n\u001b[1;32m--> 496\u001b[0m     result \u001b[38;5;241m=\u001b[39m \u001b[43mfunc\u001b[49m\u001b[43m(\u001b[49m\u001b[38;5;241;43m*\u001b[39;49m\u001b[43margs\u001b[49m\u001b[43m)\u001b[49m\n\u001b[0;32m    497\u001b[0m     \u001b[38;5;28;01mif\u001b[39;00m result \u001b[38;5;129;01mis\u001b[39;00m \u001b[38;5;129;01mnot\u001b[39;00m \u001b[38;5;28;01mNone\u001b[39;00m:\n\u001b[0;32m    498\u001b[0m         \u001b[38;5;28;01mreturn\u001b[39;00m result\n",
            "File \u001b[1;32m~\\AppData\\Local\\Programs\\Python\\Python310\\lib\\urllib\\request.py:1377\u001b[0m, in \u001b[0;36mHTTPHandler.http_open\u001b[1;34m(self, req)\u001b[0m\n\u001b[0;32m   1376\u001b[0m \u001b[38;5;28;01mdef\u001b[39;00m \u001b[38;5;21mhttp_open\u001b[39m(\u001b[38;5;28mself\u001b[39m, req):\n\u001b[1;32m-> 1377\u001b[0m     \u001b[38;5;28;01mreturn\u001b[39;00m \u001b[38;5;28;43mself\u001b[39;49m\u001b[38;5;241;43m.\u001b[39;49m\u001b[43mdo_open\u001b[49m\u001b[43m(\u001b[49m\u001b[43mhttp\u001b[49m\u001b[38;5;241;43m.\u001b[39;49m\u001b[43mclient\u001b[49m\u001b[38;5;241;43m.\u001b[39;49m\u001b[43mHTTPConnection\u001b[49m\u001b[43m,\u001b[49m\u001b[43m \u001b[49m\u001b[43mreq\u001b[49m\u001b[43m)\u001b[49m\n",
            "File \u001b[1;32m~\\AppData\\Local\\Programs\\Python\\Python310\\lib\\urllib\\request.py:1351\u001b[0m, in \u001b[0;36mAbstractHTTPHandler.do_open\u001b[1;34m(self, http_class, req, **http_conn_args)\u001b[0m\n\u001b[0;32m   1348\u001b[0m         h\u001b[38;5;241m.\u001b[39mrequest(req\u001b[38;5;241m.\u001b[39mget_method(), req\u001b[38;5;241m.\u001b[39mselector, req\u001b[38;5;241m.\u001b[39mdata, headers,\n\u001b[0;32m   1349\u001b[0m                   encode_chunked\u001b[38;5;241m=\u001b[39mreq\u001b[38;5;241m.\u001b[39mhas_header(\u001b[38;5;124m'\u001b[39m\u001b[38;5;124mTransfer-encoding\u001b[39m\u001b[38;5;124m'\u001b[39m))\n\u001b[0;32m   1350\u001b[0m     \u001b[38;5;28;01mexcept\u001b[39;00m \u001b[38;5;167;01mOSError\u001b[39;00m \u001b[38;5;28;01mas\u001b[39;00m err: \u001b[38;5;66;03m# timeout error\u001b[39;00m\n\u001b[1;32m-> 1351\u001b[0m         \u001b[38;5;28;01mraise\u001b[39;00m URLError(err)\n\u001b[0;32m   1352\u001b[0m     r \u001b[38;5;241m=\u001b[39m h\u001b[38;5;241m.\u001b[39mgetresponse()\n\u001b[0;32m   1353\u001b[0m \u001b[38;5;28;01mexcept\u001b[39;00m:\n",
            "\u001b[1;31mURLError\u001b[0m: <urlopen error [WinError 10060] A connection attempt failed because the connected party did not properly respond after a period of time, or established connection failed because connected host has failed to respond>"
          ]
        }
      ],
      "source": [
        "urlopen('http://192.0.2.1/index.html')"
      ]
    },
    {
      "cell_type": "markdown",
      "id": "d0dc9dad-f7a3-42f2-96a6-c798b5599d48",
      "metadata": {
        "id": "d0dc9dad-f7a3-42f2-96a6-c798b5599d48"
      },
      "source": [
        "## HTTP headers"
      ]
    },
    {
      "cell_type": "code",
      "execution_count": null,
      "id": "4d07562c-1a07-4148-a95b-a23f9561f3fb",
      "metadata": {
        "id": "4d07562c-1a07-4148-a95b-a23f9561f3fb",
        "outputId": "d038cfc3-5427-4791-f35b-bdff1828b413"
      },
      "outputs": [
        {
          "data": {
            "text/plain": [
              "[('Date', 'Tue, 03 Oct 2023 16:47:39 GMT'),\n",
              " ('Server', 'Apache'),\n",
              " ('Content-Location', 'index.en.html'),\n",
              " ('Vary', 'negotiate,accept-language,Accept-Encoding,cookie'),\n",
              " ('TCN', 'choice'),\n",
              " ('X-Content-Type-Options', 'nosniff'),\n",
              " ('X-Frame-Options', 'sameorigin'),\n",
              " ('Referrer-Policy', 'no-referrer'),\n",
              " ('X-Xss-Protection', '1'),\n",
              " ('Permissions-Policy', 'interest-cohort=()'),\n",
              " ('Strict-Transport-Security', 'max-age=15552000'),\n",
              " ('Upgrade', 'h2,h2c'),\n",
              " ('Connection', 'Upgrade, close'),\n",
              " ('Last-Modified', 'Thu, 28 Sep 2023 23:28:44 GMT'),\n",
              " ('ETag', '\"3d3e-60673ab3fce63\"'),\n",
              " ('Accept-Ranges', 'bytes'),\n",
              " ('Content-Length', '15678'),\n",
              " ('Cache-Control', 'max-age=86400'),\n",
              " ('Expires', 'Wed, 04 Oct 2023 16:47:39 GMT'),\n",
              " ('X-Clacks-Overhead', 'GNU Terry Pratchett'),\n",
              " ('Content-Type', 'text/html'),\n",
              " ('Content-Language', 'en')]"
            ]
          },
          "execution_count": 10,
          "metadata": {},
          "output_type": "execute_result"
        }
      ],
      "source": [
        "# Making a request to the Debian website using the urlopen function\n",
        "response = urlopen('http://www.debian.org')\n",
        "# Getting the headers from the HTTP response\n",
        "response.getheaders()"
      ]
    },
    {
      "cell_type": "markdown",
      "id": "38090c32-411d-4120-a8e4-ffeaae0d4892",
      "metadata": {
        "id": "38090c32-411d-4120-a8e4-ffeaae0d4892"
      },
      "source": [
        "## Customizing requests"
      ]
    },
    {
      "cell_type": "code",
      "execution_count": null,
      "id": "710a048c-63cc-42c0-a639-12b86733f5ad",
      "metadata": {
        "id": "710a048c-63cc-42c0-a639-12b86733f5ad",
        "outputId": "b2cea9fd-4282-427f-e4a7-6a16b71913e4"
      },
      "outputs": [
        {
          "data": {
            "text/plain": [
              "[b'<!DOCTYPE html>\\n',\n",
              " b'<html lang=\"sv\">\\n',\n",
              " b'<head>\\n',\n",
              " b'  <meta charset=\"utf-8\">\\n',\n",
              " b'  <title>Debian -- Det universella operativsystemet </title>\\n']"
            ]
          },
          "execution_count": 11,
          "metadata": {},
          "output_type": "execute_result"
        }
      ],
      "source": [
        "from urllib.request import Request\n",
        "# Creating a Request object for the Debian website\n",
        "req = Request('http://www.debian.org')\n",
        "# Adding the 'Accept-Language' header to the request with a value of 'sv' (Swedish)\n",
        "req.add_header('Accept-Language', 'sv')\n",
        "# Making a request to the Debian website with the modified request object\n",
        "response = urlopen(req)\n",
        "# Reading the first 5 lines of the response content\n",
        "response.readlines()[:5]"
      ]
    },
    {
      "cell_type": "code",
      "execution_count": null,
      "id": "755e2f12-046d-4449-9f7f-8587665e5e13",
      "metadata": {
        "id": "755e2f12-046d-4449-9f7f-8587665e5e13",
        "outputId": "94b8e7ee-92b9-46a5-a9cb-a369f32d6680"
      },
      "outputs": [
        {
          "data": {
            "text/plain": [
              "[('Accept-language', 'sv')]"
            ]
          },
          "execution_count": 12,
          "metadata": {},
          "output_type": "execute_result"
        }
      ],
      "source": [
        "# Creating a Request object for the Debian website\n",
        "req = Request('http://www.debian.org')\n",
        "# Creating a Request object for the Debian website\n",
        " req.add_header('Accept-Language', 'sv')\n",
        "# Retrieving the header items from the Request object\n",
        " req.header_items()"
      ]
    },
    {
      "cell_type": "code",
      "execution_count": null,
      "id": "3cb4be42-e015-411b-a3b7-7330f7efc242",
      "metadata": {
        "id": "3cb4be42-e015-411b-a3b7-7330f7efc242",
        "outputId": "8e3bc6ae-daf1-4b11-acad-5a1827c87db5"
      },
      "outputs": [
        {
          "data": {
            "text/plain": [
              "[('Host', 'www.debian.org'),\n",
              " ('User-agent', 'Python-urllib/3.10'),\n",
              " ('Accept-language', 'sv')]"
            ]
          },
          "execution_count": 13,
          "metadata": {},
          "output_type": "execute_result"
        }
      ],
      "source": [
        "# Making a request to the Debian website with the modified request object\n",
        "response = urlopen(req)\n",
        "# Printing the headers of the Request object\n",
        "req.header_items()"
      ]
    },
    {
      "cell_type": "code",
      "execution_count": null,
      "id": "344a4cf5-fc88-46f5-bbec-4ca502c017e4",
      "metadata": {
        "id": "344a4cf5-fc88-46f5-bbec-4ca502c017e4",
        "outputId": "88c20be4-4184-47bf-a2b2-489165581186"
      },
      "outputs": [
        {
          "data": {
            "text/plain": [
              "[('Accept-language', 'sv')]"
            ]
          },
          "execution_count": 14,
          "metadata": {},
          "output_type": "execute_result"
        }
      ],
      "source": [
        "headers = {'Accept-Language': 'sv'} # Define headers in a dictionary\n",
        "req = Request('http://www.debian.org', headers=headers) # Create a Request object with specified headers\n",
        "req.header_items()"
      ]
    },
    {
      "cell_type": "markdown",
      "id": "f314caee-3692-4261-acd9-f3d7e97465e5",
      "metadata": {
        "id": "f314caee-3692-4261-acd9-f3d7e97465e5"
      },
      "source": [
        "## Content compression"
      ]
    },
    {
      "cell_type": "code",
      "execution_count": null,
      "id": "ae765d7a-329d-4851-8e27-22be1cf3afd1",
      "metadata": {
        "id": "ae765d7a-329d-4851-8e27-22be1cf3afd1",
        "outputId": "07824332-2985-4d40-e99d-b20775ae6fff"
      },
      "outputs": [
        {
          "data": {
            "text/plain": [
              "'gzip'"
            ]
          },
          "execution_count": 15,
          "metadata": {},
          "output_type": "execute_result"
        }
      ],
      "source": [
        "req = Request('http://www.debian.org') # Creating a Request object for the Debian website\n",
        "req.add_header('Accept-Encoding', 'gzip') # Adding the 'Accept-Encoding' header to the request with a value of 'gzip'\n",
        "response = urlopen(req) # Making a request to the Debian website with the modified request object\n",
        "response.getheader('Content-Encoding') # Retrieving the 'Content-Encoding' header from the response"
      ]
    },
    {
      "cell_type": "code",
      "execution_count": null,
      "id": "177fa612-bd95-4a1d-9726-f0bcd4654c14",
      "metadata": {
        "id": "177fa612-bd95-4a1d-9726-f0bcd4654c14",
        "outputId": "2d582dfe-1356-4c99-c3ae-cafc1cc07217"
      },
      "outputs": [
        {
          "data": {
            "text/plain": [
              "[b'<!DOCTYPE html>',\n",
              " b'<html lang=\"en\">',\n",
              " b'<head>',\n",
              " b'  <meta charset=\"utf-8\">',\n",
              " b'  <title>Debian -- The Universal Operating System </title>']"
            ]
          },
          "execution_count": 16,
          "metadata": {},
          "output_type": "execute_result"
        }
      ],
      "source": [
        "import gzip\n",
        "content = gzip.decompress(response.read()) # Decompressing the content using the gzip module\n",
        "content.splitlines()[:5] # Splitting the content into lines and retrieving the first 5 lines"
      ]
    },
    {
      "cell_type": "code",
      "execution_count": null,
      "id": "ca6247b6-f2f3-4e68-a003-8460ddb37fbc",
      "metadata": {
        "id": "ca6247b6-f2f3-4e68-a003-8460ddb37fbc",
        "outputId": "4fe0cbfb-01a0-41d3-da7b-2f86c1e57f52"
      },
      "outputs": [
        {
          "name": "stdout",
          "output_type": "stream",
          "text": [
            "None\n"
          ]
        }
      ],
      "source": [
        "req = Request('http://www.debian.org')\n",
        "# Adding the 'Accept-Encoding' header to the request with a value of 'identity'\n",
        "req.add_header('Accept-Encoding', 'identity')\n",
        "response = urlopen(req) # Making a request to the Debian website with the modified request object\n",
        "print(response.getheader('Content-Encoding'))"
      ]
    },
    {
      "cell_type": "code",
      "execution_count": null,
      "id": "520af9cd-dea8-487e-948d-aed690b9052b",
      "metadata": {
        "id": "520af9cd-dea8-487e-948d-aed690b9052b",
        "outputId": "70633ae7-86c0-43da-e344-138143d49d3f"
      },
      "outputs": [
        {
          "data": {
            "text/plain": [
              "'gzip'"
            ]
          },
          "execution_count": 18,
          "metadata": {},
          "output_type": "execute_result"
        }
      ],
      "source": [
        "req = Request('http://www.debian.org')\n",
        "# Specifying multiple compression algorithms in the 'Accept-Encoding' header\n",
        "encodings = 'deflate, gzip, identity'\n",
        "req.add_header('Accept-Encoding', encodings)\n",
        "response = urlopen(req) # Making a request to the Debian website with the modified request object\n",
        "response.getheader('Content-Encoding') # Retrieving the 'Content-Encoding' header from the response"
      ]
    },
    {
      "cell_type": "code",
      "execution_count": null,
      "id": "3a432875-b757-4db0-bc3a-230816dec52e",
      "metadata": {
        "id": "3a432875-b757-4db0-bc3a-230816dec52e"
      },
      "outputs": [],
      "source": [
        "# Specifying multiple compression algorithms with weights in the 'Accept-Encoding' header\n",
        "encodings = 'gzip, deflate;q=0.8, identity;q=0.0'"
      ]
    },
    {
      "cell_type": "markdown",
      "id": "9a0244eb-c604-4224-ac2b-f2102afe8019",
      "metadata": {
        "id": "9a0244eb-c604-4224-ac2b-f2102afe8019"
      },
      "source": [
        "## Content types"
      ]
    },
    {
      "cell_type": "code",
      "execution_count": null,
      "id": "ca543dd4-fd5a-4967-8cc0-5060d6755675",
      "metadata": {
        "id": "ca543dd4-fd5a-4967-8cc0-5060d6755675",
        "outputId": "14a858e7-1b26-4233-b940-a95115d1e2b3"
      },
      "outputs": [
        {
          "data": {
            "text/plain": [
              "'text/html'"
            ]
          },
          "execution_count": 21,
          "metadata": {},
          "output_type": "execute_result"
        }
      ],
      "source": [
        "# Making a request to the Debian website\n",
        "response = urlopen('http://www.debian.org')\n",
        "# Retrieving the 'Content-Type' header from the response then print\n",
        "response.getheader('Content-Type')"
      ]
    },
    {
      "cell_type": "code",
      "execution_count": null,
      "id": "fa409353-51b6-4aa3-a842-fa6dd189b3a6",
      "metadata": {
        "id": "fa409353-51b6-4aa3-a842-fa6dd189b3a6",
        "outputId": "0e9a4811-f19b-4ee5-e0e0-77ccf6207d42"
      },
      "outputs": [
        {
          "data": {
            "text/plain": [
              "' charset=utf-8'"
            ]
          },
          "execution_count": 22,
          "metadata": {},
          "output_type": "execute_result"
        }
      ],
      "source": [
        "# Making a request to the Python website\n",
        "response = urlopen('http://www.python.org')\n",
        "# Splitting the 'Content-Type' string into format and parameters\n",
        "format, params = response.getheader('Content-Type').split(';')\n",
        "params"
      ]
    },
    {
      "cell_type": "code",
      "execution_count": null,
      "id": "9c034b67-33ae-4f4c-a25f-603bbfb16e53",
      "metadata": {
        "id": "9c034b67-33ae-4f4c-a25f-603bbfb16e53",
        "outputId": "768adf84-67a4-46bc-a3b5-4a796dbf2e11"
      },
      "outputs": [
        {
          "data": {
            "text/plain": [
              "'utf-8'"
            ]
          },
          "execution_count": 23,
          "metadata": {},
          "output_type": "execute_result"
        }
      ],
      "source": [
        "# Extracting the value of the character encoding\n",
        "charset = params.split('=')[1]\n",
        "charset"
      ]
    },
    {
      "cell_type": "markdown",
      "id": "eba597a0-1049-4491-8873-09add35bb7bd",
      "metadata": {
        "id": "eba597a0-1049-4491-8873-09add35bb7bd"
      },
      "source": [
        "## User agents"
      ]
    },
    {
      "cell_type": "code",
      "execution_count": null,
      "id": "47c229dd-f0e4-4f97-b5b7-c7dc125642ba",
      "metadata": {
        "id": "47c229dd-f0e4-4f97-b5b7-c7dc125642ba",
        "outputId": "a3ab00a8-d7fb-4696-ef59-716b8d3cb148"
      },
      "outputs": [
        {
          "data": {
            "text/plain": [
              "'Python-urllib/3.10'"
            ]
          },
          "execution_count": 24,
          "metadata": {},
          "output_type": "execute_result"
        }
      ],
      "source": [
        "req = Request('http://www.python.org') # Creating a Request object for the Python website\n",
        "urlopen(req)\n",
        "req.get_header('User-agent') # Retrieving the 'User-Agent' header from the request"
      ]
    },
    {
      "cell_type": "code",
      "execution_count": null,
      "id": "c4459307-903d-4cbb-94ac-cb04ff5cbdd5",
      "metadata": {
        "id": "c4459307-903d-4cbb-94ac-cb04ff5cbdd5"
      },
      "outputs": [],
      "source": [
        "req = Request('http://www.debian.org') # Creating a Request object for the Debian website\n",
        "# Adding the 'User-Agent' header to the request\n",
        "req.add_header('User-Agent', 'Mozilla/5.0 (X11; Linux x86_64; rv:24.0) Gecko/20140722 Firefox/24.0 Iceweasel/24.7.0')\n",
        "response = urlopen(req)"
      ]
    },
    {
      "cell_type": "markdown",
      "id": "6bdf440d-4a4f-4f8e-b4f7-9ebc7eed0831",
      "metadata": {
        "id": "6bdf440d-4a4f-4f8e-b4f7-9ebc7eed0831"
      },
      "source": [
        "## Cookie handling"
      ]
    },
    {
      "cell_type": "code",
      "execution_count": null,
      "id": "eda5104a-8c2b-491a-a5a0-525f6c29c6ae",
      "metadata": {
        "id": "eda5104a-8c2b-491a-a5a0-525f6c29c6ae",
        "outputId": "8d453191-68c9-43d7-ddce-745bc24342e9"
      },
      "outputs": [
        {
          "data": {
            "text/plain": [
              "3"
            ]
          },
          "execution_count": 27,
          "metadata": {},
          "output_type": "execute_result"
        }
      ],
      "source": [
        "from http.cookiejar import CookieJar\n",
        "cookie_jar = CookieJar() # Creating a CookieJar object\n",
        "from urllib.request import build_opener, HTTPCookieProcessor\n",
        "opener = build_opener(HTTPCookieProcessor(cookie_jar)) # Creating an opener with HTTPCookieProcessor\n",
        "opener.open('http://www.github.com') # Opening the URL 'http://www.github.com' with the opener\n",
        "len(cookie_jar) # Checking the length of the CookieJar"
      ]
    },
    {
      "cell_type": "markdown",
      "id": "d3abfb26-b7b6-4fa0-b27e-92439fe3c779",
      "metadata": {
        "id": "d3abfb26-b7b6-4fa0-b27e-92439fe3c779"
      },
      "source": [
        "## Know your cookies"
      ]
    },
    {
      "cell_type": "code",
      "execution_count": null,
      "id": "0071174d-12c2-40ae-bfe7-0223158a9d8b",
      "metadata": {
        "id": "0071174d-12c2-40ae-bfe7-0223158a9d8b",
        "outputId": "2f797b32-c443-49f3-d3de-d118741e442c"
      },
      "outputs": [
        {
          "data": {
            "text/plain": [
              "[Cookie(version=0, name='_octo', value='GH1.1.710474752.1696352155', port=None, port_specified=False, domain='.github.com', domain_specified=True, domain_initial_dot=False, path='/', path_specified=True, secure=True, expires=1727974555, discard=False, comment=None, comment_url=None, rest={'SameSite': 'Lax'}, rfc2109=False),\n",
              " Cookie(version=0, name='logged_in', value='no', port=None, port_specified=False, domain='.github.com', domain_specified=True, domain_initial_dot=False, path='/', path_specified=True, secure=True, expires=1727974555, discard=False, comment=None, comment_url=None, rest={'HttpOnly': None, 'SameSite': 'Lax'}, rfc2109=False),\n",
              " Cookie(version=0, name='_gh_sess', value='iyrab8EgkWfnEgXtgUNBpHluN%2BQFv5f9bPrSJckNuK4RpVUJ9BypC000Y%2Flceshzbh3MktDpt%2Bkp2QpV7CO9PoqGgQanHQX32do3O1MwgXR8yg49KFh9wSwytKI2imDwGRJq6Ffs%2BjzrzQNZeTmXlS5MS%2F2KmRI7H6xdvcE0oQr1jAt7IAz0kl0UGest23EF6uaVW9rh5y93eF5loL27SxwpWXHM9JwS0SwssZJuFUEwW07MdNb%2FzfKqNMH13Q8aTbgmVoWHPDZkfOSRSaJ%2FeA%3D%3D--7BR3%2F9gr5%2BdYxPPd--05pqyH4ypBWInbdZ897nJg%3D%3D', port=None, port_specified=False, domain='github.com', domain_specified=False, domain_initial_dot=False, path='/', path_specified=True, secure=True, expires=None, discard=True, comment=None, comment_url=None, rest={'HttpOnly': None, 'SameSite': 'Lax'}, rfc2109=False)]"
            ]
          },
          "execution_count": 28,
          "metadata": {},
          "output_type": "execute_result"
        }
      ],
      "source": [
        "cookies = list(cookie_jar) # Converting the CookieJar to a list\n",
        "cookies"
      ]
    },
    {
      "cell_type": "code",
      "execution_count": null,
      "id": "e55f1c28-862d-47d5-8f81-03ed247e1492",
      "metadata": {
        "id": "e55f1c28-862d-47d5-8f81-03ed247e1492",
        "outputId": "a953a0d6-ed11-4ce6-81ec-e7b5f9e9ca5c"
      },
      "outputs": [
        {
          "data": {
            "text/plain": [
              "'_octo'"
            ]
          },
          "execution_count": 29,
          "metadata": {},
          "output_type": "execute_result"
        }
      ],
      "source": [
        "cookies[0].name # Accessing the name of the first cookie in the list"
      ]
    },
    {
      "cell_type": "code",
      "execution_count": null,
      "id": "98faf4c4-1cd9-40cc-bc71-9cad834a856f",
      "metadata": {
        "id": "98faf4c4-1cd9-40cc-bc71-9cad834a856f",
        "outputId": "65dda7cb-dd0a-4dc8-ed06-565f7d8e44fe"
      },
      "outputs": [
        {
          "data": {
            "text/plain": [
              "'GH1.1.710474752.1696352155'"
            ]
          },
          "execution_count": 30,
          "metadata": {},
          "output_type": "execute_result"
        }
      ],
      "source": [
        "cookies[0].value # Accessing the value of the first cookie in the list"
      ]
    },
    {
      "cell_type": "code",
      "execution_count": null,
      "id": "3c247514-aa0a-49d7-9fe3-62af780b9a59",
      "metadata": {
        "id": "3c247514-aa0a-49d7-9fe3-62af780b9a59",
        "outputId": "9af693b8-3878-4f62-fff3-c098a1a1274c"
      },
      "outputs": [
        {
          "data": {
            "text/plain": [
              "'.github.com'"
            ]
          },
          "execution_count": 31,
          "metadata": {},
          "output_type": "execute_result"
        }
      ],
      "source": [
        "cookies[0].domain # Accessing the domain of the first cookie in the list"
      ]
    },
    {
      "cell_type": "code",
      "execution_count": null,
      "id": "1f0465f2-b4ad-4d99-bfd1-e1ba091c4c82",
      "metadata": {
        "id": "1f0465f2-b4ad-4d99-bfd1-e1ba091c4c82",
        "outputId": "bcd2d218-6649-431d-c7e2-591d41ef8456"
      },
      "outputs": [
        {
          "data": {
            "text/plain": [
              "'/'"
            ]
          },
          "execution_count": 32,
          "metadata": {},
          "output_type": "execute_result"
        }
      ],
      "source": [
        "cookies[0].path # Accessing the path of the first cookie in the list"
      ]
    },
    {
      "cell_type": "code",
      "execution_count": null,
      "id": "567312ed-c83a-4514-b3ab-fa41371039d4",
      "metadata": {
        "id": "567312ed-c83a-4514-b3ab-fa41371039d4",
        "outputId": "0c46886b-9b1a-44cc-c7d3-9fe89265cb41"
      },
      "outputs": [
        {
          "data": {
            "text/plain": [
              "1727974555"
            ]
          },
          "execution_count": 33,
          "metadata": {},
          "output_type": "execute_result"
        }
      ],
      "source": [
        "cookies[0].expires # Accessing the expiration time of the first cookie in the list"
      ]
    },
    {
      "cell_type": "code",
      "execution_count": null,
      "id": "44dbe308-5be7-487a-9066-bbc30fba0ba6",
      "metadata": {
        "id": "44dbe308-5be7-487a-9066-bbc30fba0ba6",
        "outputId": "36fae150-2e32-440a-a721-065d949d2992"
      },
      "outputs": [
        {
          "data": {
            "text/plain": [
              "datetime.datetime(2035, 4, 22, 20, 13, 37)"
            ]
          },
          "execution_count": 34,
          "metadata": {},
          "output_type": "execute_result"
        }
      ],
      "source": [
        "import datetime\n",
        "# Converting the expiration timestamp of the first cookie to a datetime object\n",
        "datetime.datetime.fromtimestamp(cookies[0].expires)\n",
        "# Specified date and time for comparison\n",
        "datetime.datetime(2035, 4, 22, 20, 13, 37)"
      ]
    },
    {
      "cell_type": "code",
      "execution_count": null,
      "id": "219e9fd8-da7b-4f18-a68d-81560e0ca53f",
      "metadata": {
        "id": "219e9fd8-da7b-4f18-a68d-81560e0ca53f",
        "outputId": "7c7d8294-f6e7-43b1-8cc5-0f67b130e9c3"
      },
      "outputs": [
        {
          "name": "stdout",
          "output_type": "stream",
          "text": [
            "None\n"
          ]
        }
      ],
      "source": [
        "print(cookies[0].get_nonstandard_attr('HttpOnly')) # Retrieving the 'HttpOnly' attribute from the first cookie"
      ]
    },
    {
      "cell_type": "code",
      "execution_count": null,
      "id": "7164411f-3bb1-4637-9b29-2f47f4c0c5b6",
      "metadata": {
        "id": "7164411f-3bb1-4637-9b29-2f47f4c0c5b6",
        "outputId": "018ce548-20ae-4a9f-895c-56dadad5711d"
      },
      "outputs": [
        {
          "data": {
            "text/plain": [
              "True"
            ]
          },
          "execution_count": 36,
          "metadata": {},
          "output_type": "execute_result"
        }
      ],
      "source": [
        "cookies[0].secure # Retrieving the 'secure' attribute from the first cookie"
      ]
    },
    {
      "cell_type": "markdown",
      "id": "80ae6b0d-f301-4068-9225-48c34b107bac",
      "metadata": {
        "id": "80ae6b0d-f301-4068-9225-48c34b107bac"
      },
      "source": [
        "## Redirects"
      ]
    },
    {
      "cell_type": "code",
      "execution_count": null,
      "id": "8331f6a4-9c03-4b73-a21e-7e7596c1a6c4",
      "metadata": {
        "id": "8331f6a4-9c03-4b73-a21e-7e7596c1a6c4",
        "outputId": "f9eec38b-c8cf-4e93-e2fc-cbc8878c3c1e"
      },
      "outputs": [
        {
          "data": {
            "text/plain": [
              "'https://accounts.google.com/v3/signin/identifier?continue=https%3A%2F%2Fmail.google.com%2Fmail%2Fu%2F0%2F&emr=1&followup=https%3A%2F%2Fmail.google.com%2Fmail%2Fu%2F0%2F&ifkv=AYZoVhcMBYIrNdeWo8b69MboS8grpClZ2PxGx0a9qHTblxe29_bgTrqBROmwVl_wmSYOi5wUSLA8Tg&osid=1&passive=1209600&service=mail&flowName=WebLiteSignIn&flowEntry=ServiceLogin&dsh=S772570346%3A1696352306670307'"
            ]
          },
          "execution_count": 37,
          "metadata": {},
          "output_type": "execute_result"
        }
      ],
      "source": [
        "req = Request('http://www.gmail.com') # Creating a Request object for 'http://www.gmail.com'\n",
        "response = urlopen(req) # Opening the URL with the request\n",
        "response.url # Printing the URL of the response\n"
      ]
    },
    {
      "cell_type": "code",
      "execution_count": null,
      "id": "816a953d-0af4-46c5-88ce-72b8b3dd99f1",
      "metadata": {
        "id": "816a953d-0af4-46c5-88ce-72b8b3dd99f1",
        "outputId": "52225bae-cd34-42f2-a3e2-4ae7ac99b0a8"
      },
      "outputs": [
        {
          "data": {
            "text/plain": [
              "{'https://mail.google.com/mail/u/0/': 1,\n",
              " 'https://accounts.google.com/ServiceLogin?service=mail&passive=1209600&osid=1&continue=https://mail.google.com/mail/u/0/&followup=https://mail.google.com/mail/u/0/&emr=1': 1,\n",
              " 'https://accounts.google.com/InteractiveLogin?continue=https://mail.google.com/mail/u/0/&emr=1&followup=https://mail.google.com/mail/u/0/&osid=1&passive=1209600&service=mail&ifkv=AYZoVhe9ERcy0g9T9xLe3hXWVbmSyRabf_0UAh-uxpICJdxQ9qIqkz9yk2UMjoQ5Q3AAVooJ1HzEJw': 1,\n",
              " 'https://accounts.google.com/v3/signin/identifier?continue=https%3A%2F%2Fmail.google.com%2Fmail%2Fu%2F0%2F&emr=1&followup=https%3A%2F%2Fmail.google.com%2Fmail%2Fu%2F0%2F&ifkv=AYZoVhcMBYIrNdeWo8b69MboS8grpClZ2PxGx0a9qHTblxe29_bgTrqBROmwVl_wmSYOi5wUSLA8Tg&osid=1&passive=1209600&service=mail&flowName=WebLiteSignIn&flowEntry=ServiceLogin&dsh=S772570346%3A1696352306670307': 1}"
            ]
          },
          "execution_count": 38,
          "metadata": {},
          "output_type": "execute_result"
        }
      ],
      "source": [
        "req.redirect_dict"
      ]
    },
    {
      "cell_type": "markdown",
      "id": "56e3a162-eab4-42e9-aaf9-7c29e7942ea9",
      "metadata": {
        "id": "56e3a162-eab4-42e9-aaf9-7c29e7942ea9"
      },
      "source": [
        "## URLs"
      ]
    },
    {
      "cell_type": "code",
      "execution_count": null,
      "id": "4ff744e4-6eb6-42e3-8fea-c710633abec4",
      "metadata": {
        "id": "4ff744e4-6eb6-42e3-8fea-c710633abec4",
        "outputId": "51190f60-1d9d-4332-bf87-721b9521cf97"
      },
      "outputs": [
        {
          "data": {
            "text/plain": [
              "ParseResult(scheme='http', netloc='www.python.org', path='/dev/peps', params='', query='', fragment='')"
            ]
          },
          "execution_count": 39,
          "metadata": {},
          "output_type": "execute_result"
        }
      ],
      "source": [
        "from urllib.parse import urlparse\n",
        "result = urlparse('http://www.python.org/dev/peps') # Parsing the URL\n",
        "result"
      ]
    },
    {
      "cell_type": "code",
      "execution_count": null,
      "id": "9a6e5a14-b616-4794-a6f0-9555665d471d",
      "metadata": {
        "id": "9a6e5a14-b616-4794-a6f0-9555665d471d",
        "outputId": "9ae8ba90-0b69-48ef-bbe7-b6658915145b"
      },
      "outputs": [
        {
          "data": {
            "text/plain": [
              "'www.python.org'"
            ]
          },
          "execution_count": 40,
          "metadata": {},
          "output_type": "execute_result"
        }
      ],
      "source": [
        "result.netloc"
      ]
    },
    {
      "cell_type": "code",
      "execution_count": null,
      "id": "30caba7f-ed4b-4137-8b4e-955c9ee3b4f0",
      "metadata": {
        "id": "30caba7f-ed4b-4137-8b4e-955c9ee3b4f0",
        "outputId": "346b5205-5547-4f70-f9e4-0f7c71e5c985"
      },
      "outputs": [
        {
          "data": {
            "text/plain": [
              "'/dev/peps'"
            ]
          },
          "execution_count": 41,
          "metadata": {},
          "output_type": "execute_result"
        }
      ],
      "source": [
        "result.path"
      ]
    },
    {
      "cell_type": "code",
      "execution_count": null,
      "id": "aff79ab5-9afe-42c5-bc72-e0dbd2c9ab3d",
      "metadata": {
        "id": "aff79ab5-9afe-42c5-bc72-e0dbd2c9ab3d",
        "outputId": "4fbf3a55-89be-44da-e5fc-ff734df382a1"
      },
      "outputs": [
        {
          "data": {
            "text/plain": [
              "ParseResult(scheme='http', netloc='www.python.org:8080', path='/', params='', query='', fragment='')"
            ]
          },
          "execution_count": 42,
          "metadata": {},
          "output_type": "execute_result"
        }
      ],
      "source": [
        "urlparse('http://www.python.org:8080/')"
      ]
    },
    {
      "cell_type": "markdown",
      "id": "d0f95c02-10e7-4286-8f62-a01b63b59946",
      "metadata": {
        "id": "d0f95c02-10e7-4286-8f62-a01b63b59946"
      },
      "source": [
        "## Paths and relative URLs"
      ]
    },
    {
      "cell_type": "code",
      "execution_count": null,
      "id": "d1f3e4cf-64fe-455c-b00d-bb909f48929d",
      "metadata": {
        "id": "d1f3e4cf-64fe-455c-b00d-bb909f48929d",
        "outputId": "bc53dcbe-0862-4721-9386-90f2e360fc02"
      },
      "outputs": [
        {
          "data": {
            "text/plain": [
              "ParseResult(scheme='http', netloc='www.python.org', path='/', params='', query='', fragment='')"
            ]
          },
          "execution_count": 43,
          "metadata": {},
          "output_type": "execute_result"
        }
      ],
      "source": [
        "urlparse('http://www.python.org/')"
      ]
    },
    {
      "cell_type": "code",
      "execution_count": null,
      "id": "a8a19916-d306-48d5-ac98-adc2ca2aa47e",
      "metadata": {
        "id": "a8a19916-d306-48d5-ac98-adc2ca2aa47e",
        "outputId": "913031f7-54bc-459d-88fd-acf75f34418d"
      },
      "outputs": [
        {
          "data": {
            "text/plain": [
              "ParseResult(scheme='', netloc='', path='../images/tux.png', params='', query='', fragment='')"
            ]
          },
          "execution_count": 44,
          "metadata": {},
          "output_type": "execute_result"
        }
      ],
      "source": [
        "urlparse('../images/tux.png')"
      ]
    },
    {
      "cell_type": "code",
      "execution_count": null,
      "id": "257349be-fb48-41f9-ab5c-194deb40e930",
      "metadata": {
        "id": "257349be-fb48-41f9-ab5c-194deb40e930",
        "outputId": "3fc4ae2b-0120-4140-d753-d3dccdfd0ad3"
      },
      "outputs": [
        {
          "data": {
            "text/plain": [
              "'http://www.debian.org/intro/about'"
            ]
          },
          "execution_count": 45,
          "metadata": {},
          "output_type": "execute_result"
        }
      ],
      "source": [
        "from urllib.parse import urljoin\n",
        "urljoin('http://www.debian.org', 'intro/about')"
      ]
    },
    {
      "cell_type": "code",
      "execution_count": null,
      "id": "5883a1ad-7333-4903-a709-7478606caa51",
      "metadata": {
        "id": "5883a1ad-7333-4903-a709-7478606caa51",
        "outputId": "f1ac6544-f7ec-4d8a-9561-b602fcd27815"
      },
      "outputs": [
        {
          "data": {
            "text/plain": [
              "'http://www.debian.org/intro/about'"
            ]
          },
          "execution_count": 46,
          "metadata": {},
          "output_type": "execute_result"
        }
      ],
      "source": [
        "urljoin('http://www.debian.org/intro/', 'about')"
      ]
    },
    {
      "cell_type": "code",
      "execution_count": null,
      "id": "1c79a921-5479-45ef-8ff2-d982a1d85191",
      "metadata": {
        "id": "1c79a921-5479-45ef-8ff2-d982a1d85191",
        "outputId": "4d58c756-b890-4b0c-d798-4467acdb8faa"
      },
      "outputs": [
        {
          "data": {
            "text/plain": [
              "'http://www.debian.org/about'"
            ]
          },
          "execution_count": 47,
          "metadata": {},
          "output_type": "execute_result"
        }
      ],
      "source": [
        "urljoin('http://www.debian.org/intro', 'about')"
      ]
    },
    {
      "cell_type": "code",
      "execution_count": null,
      "id": "1d06002d-491d-4e78-8d82-a81c2da42ae8",
      "metadata": {
        "id": "1d06002d-491d-4e78-8d82-a81c2da42ae8",
        "outputId": "f2e30bd4-3225-4323-9d08-18db0d2a3209"
      },
      "outputs": [
        {
          "data": {
            "text/plain": [
              "'http://www.debian.org/News'"
            ]
          },
          "execution_count": 48,
          "metadata": {},
          "output_type": "execute_result"
        }
      ],
      "source": [
        "urljoin('http://www.debian.org/intro/about', '/News')"
      ]
    },
    {
      "cell_type": "code",
      "execution_count": null,
      "id": "fccdfacd-7a7e-4662-ba76-4a3a48b2640c",
      "metadata": {
        "id": "fccdfacd-7a7e-4662-ba76-4a3a48b2640c",
        "outputId": "f93cc2b4-ad35-41d3-f28f-afe7868a6ae2"
      },
      "outputs": [
        {
          "data": {
            "text/plain": [
              "'http://www.debian.org/intro/News'"
            ]
          },
          "execution_count": 49,
          "metadata": {},
          "output_type": "execute_result"
        }
      ],
      "source": [
        "urljoin('http://www.debian.org/intro/about/', '../News')"
      ]
    },
    {
      "cell_type": "code",
      "execution_count": null,
      "id": "cb3d53c6-3944-4424-b797-8f8b78640eef",
      "metadata": {
        "id": "cb3d53c6-3944-4424-b797-8f8b78640eef",
        "outputId": "808fa81a-5b0a-44e1-97b0-ebfe861ea4e4"
      },
      "outputs": [
        {
          "data": {
            "text/plain": [
              "'http://www.debian.org/News'"
            ]
          },
          "execution_count": 50,
          "metadata": {},
          "output_type": "execute_result"
        }
      ],
      "source": [
        "urljoin('http://www.debian.org/intro/about/', '../../News')"
      ]
    },
    {
      "cell_type": "code",
      "execution_count": null,
      "id": "6e5f7259-ba03-4a01-9993-3e7e38268747",
      "metadata": {
        "id": "6e5f7259-ba03-4a01-9993-3e7e38268747",
        "outputId": "fd245f69-1ee6-4e89-e35c-8814895aa0ce"
      },
      "outputs": [
        {
          "data": {
            "text/plain": [
              "'http://www.debian.org/News'"
            ]
          },
          "execution_count": 51,
          "metadata": {},
          "output_type": "execute_result"
        }
      ],
      "source": [
        "urljoin('http://www.debian.org/intro/about', '../News')"
      ]
    },
    {
      "cell_type": "code",
      "execution_count": null,
      "id": "44302121-ef18-447b-8226-c23f7beb8d46",
      "metadata": {
        "id": "44302121-ef18-447b-8226-c23f7beb8d46",
        "outputId": "731ee737-859e-424c-ea40-ace92bbc730f"
      },
      "outputs": [
        {
          "data": {
            "text/plain": [
              "'http://www.python.org'"
            ]
          },
          "execution_count": 52,
          "metadata": {},
          "output_type": "execute_result"
        }
      ],
      "source": [
        "urljoin('http://www.debian.org/about', 'http://www.python.org')"
      ]
    },
    {
      "cell_type": "markdown",
      "id": "cfb96513-f241-42b5-8185-14a65ac69af4",
      "metadata": {
        "id": "cfb96513-f241-42b5-8185-14a65ac69af4"
      },
      "source": [
        "## Query strings"
      ]
    },
    {
      "cell_type": "code",
      "execution_count": null,
      "id": "758ca523-1d25-4379-b337-290b08b1c374",
      "metadata": {
        "id": "758ca523-1d25-4379-b337-290b08b1c374",
        "outputId": "c01e96f6-02bb-42f1-e20a-36cdf19241fe"
      },
      "outputs": [
        {
          "data": {
            "text/plain": [
              "ParseResult(scheme='http', netloc='docs.python.org', path='/3/search.html', params='', query=' q=urlparse&area=default', fragment='')"
            ]
          },
          "execution_count": 53,
          "metadata": {},
          "output_type": "execute_result"
        }
      ],
      "source": [
        "urlparse('http://docs.python.org/3/search.html? q=urlparse&area=default')"
      ]
    },
    {
      "cell_type": "code",
      "execution_count": null,
      "id": "968fece5-5720-4725-a6b1-06965fe2a769",
      "metadata": {
        "id": "968fece5-5720-4725-a6b1-06965fe2a769",
        "outputId": "b53675b6-a172-49d2-b88f-fe912e6571b8"
      },
      "outputs": [
        {
          "data": {
            "text/plain": [
              "{'q': ['urlparse'], 'area': ['default']}"
            ]
          },
          "execution_count": 54,
          "metadata": {},
          "output_type": "execute_result"
        }
      ],
      "source": [
        "from urllib.parse import parse_qs\n",
        "result = urlparse('http://docs.python.org/3/search.html?q=urlparse&area=default')\n",
        "parse_qs(result.query)"
      ]
    },
    {
      "cell_type": "code",
      "execution_count": null,
      "id": "2505f192-6720-486c-905a-b544876027ab",
      "metadata": {
        "id": "2505f192-6720-486c-905a-b544876027ab",
        "outputId": "87a60d40-17d2-45ee-aea4-0821665b2af9"
      },
      "outputs": [
        {
          "data": {
            "text/plain": [
              "{'q': ['urlparse', 'urljoin']}"
            ]
          },
          "execution_count": 55,
          "metadata": {},
          "output_type": "execute_result"
        }
      ],
      "source": [
        "result = urlparse('http://docs.python.org/3/search.html?q=urlparse&q=urljoin')\n",
        "parse_qs(result.query)"
      ]
    },
    {
      "cell_type": "markdown",
      "id": "0501f8c8-217d-42f7-8393-35d3c67a2e3d",
      "metadata": {
        "id": "0501f8c8-217d-42f7-8393-35d3c67a2e3d"
      },
      "source": [
        "## URL encoding"
      ]
    },
    {
      "cell_type": "code",
      "execution_count": null,
      "id": "b8628b5b-79c9-4c00-a346-7cf9f2cc33df",
      "metadata": {
        "id": "b8628b5b-79c9-4c00-a346-7cf9f2cc33df",
        "outputId": "4b336aaa-de2c-4544-e102-8b9b2a9598bc"
      },
      "outputs": [
        {
          "data": {
            "text/plain": [
              "'A%20duck%3F'"
            ]
          },
          "execution_count": 56,
          "metadata": {},
          "output_type": "execute_result"
        }
      ],
      "source": [
        "from urllib.parse import quote\n",
        "quote('A duck?')"
      ]
    },
    {
      "cell_type": "code",
      "execution_count": null,
      "id": "861484ac-7e1d-4fcb-b94a-32ba22107e41",
      "metadata": {
        "id": "861484ac-7e1d-4fcb-b94a-32ba22107e41",
        "outputId": "a415da93-676e-422d-edb5-cbae86d67f95"
      },
      "outputs": [
        {
          "data": {
            "text/plain": [
              "'%3Aaction=search&term=Are+you+quite+sure+this+is+a+cheese+shop%3F'"
            ]
          },
          "execution_count": 57,
          "metadata": {},
          "output_type": "execute_result"
        }
      ],
      "source": [
        "path = 'pypi'\n",
        "path_enc = quote(path)\n",
        "from urllib.parse import urlencode\n",
        "query_dict = {':action': 'search', 'term': 'Are you quite sure this is a cheese shop?'}\n",
        "query_enc = urlencode(query_dict)\n",
        "query_enc"
      ]
    },
    {
      "cell_type": "code",
      "execution_count": null,
      "id": "c8e88f1e-ea60-42f0-b1e7-c80ed2465dd9",
      "metadata": {
        "id": "c8e88f1e-ea60-42f0-b1e7-c80ed2465dd9",
        "outputId": "4d26d64a-ba0e-4bd5-b263-65d71055e576"
      },
      "outputs": [
        {
          "data": {
            "text/plain": [
              "'http://pypi.python.org/pypi?%3Aaction=search&term=Are+you+quite+sure+this+is+a+cheese+shop%3F'"
            ]
          },
          "execution_count": 58,
          "metadata": {},
          "output_type": "execute_result"
        }
      ],
      "source": [
        "from urllib.parse import urlunparse\n",
        "netloc = 'pypi.python.org'\n",
        "urlunparse(('http', netloc, path_enc, '', query_enc, ''))"
      ]
    },
    {
      "cell_type": "code",
      "execution_count": null,
      "id": "b79b380a-682b-4cf3-97c1-72d62e26390a",
      "metadata": {
        "id": "b79b380a-682b-4cf3-97c1-72d62e26390a",
        "outputId": "872f929a-372e-4e9c-a11b-63f4749d0f6e"
      },
      "outputs": [
        {
          "data": {
            "text/plain": [
              "'/images/users/%2BZoot%2B/'"
            ]
          },
          "execution_count": 59,
          "metadata": {},
          "output_type": "execute_result"
        }
      ],
      "source": [
        "from urllib.parse import quote\n",
        "path = '/images/users/+Zoot+/'\n",
        "quote(path)"
      ]
    },
    {
      "cell_type": "code",
      "execution_count": null,
      "id": "6b5118ee-b212-4f93-a42b-87d0b291913b",
      "metadata": {
        "id": "6b5118ee-b212-4f93-a42b-87d0b291913b",
        "outputId": "00fa8a8b-b85f-467a-8b8f-a3f958f67b3e"
      },
      "outputs": [
        {
          "data": {
            "text/plain": [
              "'images/users/%2BZoot/Dingo%2B'"
            ]
          },
          "execution_count": 60,
          "metadata": {},
          "output_type": "execute_result"
        }
      ],
      "source": [
        "username = '+Zoot/Dingo+'\n",
        "path = 'images/users/{}'.format(username)\n",
        "quote(path)"
      ]
    },
    {
      "cell_type": "code",
      "execution_count": null,
      "id": "8ee1127c-2a63-4103-b75c-4fc19b174995",
      "metadata": {
        "id": "8ee1127c-2a63-4103-b75c-4fc19b174995"
      },
      "outputs": [],
      "source": [
        "username = '+Zoot/Dingo+'\n",
        "user_encoded = quote(username, safe='')\n",
        "path = '/'.join(('', 'images', 'users', username))"
      ]
    },
    {
      "cell_type": "markdown",
      "id": "01bf780f-dfff-42a1-a1c7-a21d63095a99",
      "metadata": {
        "id": "01bf780f-dfff-42a1-a1c7-a21d63095a99"
      },
      "source": [
        "## The HEAD method"
      ]
    },
    {
      "cell_type": "code",
      "execution_count": null,
      "id": "530a989a-fab3-4f3e-a01f-86f7bf620fdd",
      "metadata": {
        "id": "530a989a-fab3-4f3e-a01f-86f7bf620fdd",
        "outputId": "907c298f-c0ec-4024-df0d-7a271847af76"
      },
      "outputs": [
        {
          "data": {
            "text/plain": [
              "200"
            ]
          },
          "execution_count": 62,
          "metadata": {},
          "output_type": "execute_result"
        }
      ],
      "source": [
        "req = Request('http://www.google.com', method='HEAD')\n",
        "response = urlopen(req)\n",
        "response.status"
      ]
    },
    {
      "cell_type": "code",
      "execution_count": null,
      "id": "d7f493a1-cf7d-4618-9f0a-7c43be53b5c1",
      "metadata": {
        "id": "d7f493a1-cf7d-4618-9f0a-7c43be53b5c1",
        "outputId": "98377912-f013-49c1-e12f-0bf7d1fb3565"
      },
      "outputs": [
        {
          "data": {
            "text/plain": [
              "b''"
            ]
          },
          "execution_count": 63,
          "metadata": {},
          "output_type": "execute_result"
        }
      ],
      "source": [
        "response.read()"
      ]
    },
    {
      "cell_type": "markdown",
      "id": "cd34707e-db4a-41ae-9651-7a39329db295",
      "metadata": {
        "id": "cd34707e-db4a-41ae-9651-7a39329db295"
      },
      "source": [
        "## The POST method"
      ]
    },
    {
      "cell_type": "code",
      "execution_count": null,
      "id": "e01d5a9b-467b-4a66-ac11-f50bf0c131c5",
      "metadata": {
        "id": "e01d5a9b-467b-4a66-ac11-f50bf0c131c5"
      },
      "outputs": [],
      "source": [
        "data_dict = {'P': 'Python'}\n",
        "data = urlencode(data_dict).encode('utf-8')\n",
        "req = Request('http://search.debian.org/cgi-bin/omega', data=data)\n",
        "req.add_header('Content-Type', 'application/x-www-form-urlencode; charset=UTF-8')\n",
        "response = urlopen(req)"
      ]
    },
    {
      "cell_type": "markdown",
      "id": "b2d456dc-bb61-49c1-b04a-b0f33e967a99",
      "metadata": {
        "id": "b2d456dc-bb61-49c1-b04a-b0f33e967a99"
      },
      "source": [
        "## The Requests library"
      ]
    },
    {
      "cell_type": "code",
      "execution_count": null,
      "id": "f8d53314-3b54-49c1-8904-b982a516e118",
      "metadata": {
        "id": "f8d53314-3b54-49c1-8904-b982a516e118",
        "outputId": "2f804af5-2942-490f-fd5a-a89b401d4a70"
      },
      "outputs": [
        {
          "data": {
            "text/plain": [
              "200"
            ]
          },
          "execution_count": 65,
          "metadata": {},
          "output_type": "execute_result"
        }
      ],
      "source": [
        "import requests\n",
        "response = requests.get('http://www.debian.org')\n",
        "response.status_code"
      ]
    },
    {
      "cell_type": "code",
      "execution_count": null,
      "id": "a5e0eedb-fec4-4a19-935e-a912992d2781",
      "metadata": {
        "id": "a5e0eedb-fec4-4a19-935e-a912992d2781",
        "outputId": "7d733239-1389-40d7-a700-e7453e1b8dab"
      },
      "outputs": [
        {
          "data": {
            "text/plain": [
              "'OK'"
            ]
          },
          "execution_count": 66,
          "metadata": {},
          "output_type": "execute_result"
        }
      ],
      "source": [
        "response.reason"
      ]
    },
    {
      "cell_type": "code",
      "execution_count": null,
      "id": "e49ece16-9859-497e-89d7-4b75d646db4d",
      "metadata": {
        "id": "e49ece16-9859-497e-89d7-4b75d646db4d",
        "outputId": "b6e76a43-47cc-4a22-bdbd-2dfa6a0de0ab"
      },
      "outputs": [
        {
          "data": {
            "text/plain": [
              "'https://www.debian.org/'"
            ]
          },
          "execution_count": 67,
          "metadata": {},
          "output_type": "execute_result"
        }
      ],
      "source": [
        "response.url"
      ]
    },
    {
      "cell_type": "code",
      "execution_count": null,
      "id": "e04f2421-fdbb-4bc2-adc7-3bc0c66dde57",
      "metadata": {
        "id": "e04f2421-fdbb-4bc2-adc7-3bc0c66dde57",
        "outputId": "119cee81-f840-44df-f517-d18d10de93da"
      },
      "outputs": [
        {
          "data": {
            "text/plain": [
              "'text/html'"
            ]
          },
          "execution_count": 68,
          "metadata": {},
          "output_type": "execute_result"
        }
      ],
      "source": [
        "response.headers['content-type']"
      ]
    },
    {
      "cell_type": "code",
      "execution_count": null,
      "id": "dfc46f87-cef6-4890-bbfe-d8ddcca2eca9",
      "metadata": {
        "id": "dfc46f87-cef6-4890-bbfe-d8ddcca2eca9",
        "outputId": "4da0d57c-d25b-45bc-edd7-12a81df35702"
      },
      "outputs": [
        {
          "data": {
            "text/plain": [
              "True"
            ]
          },
          "execution_count": 69,
          "metadata": {},
          "output_type": "execute_result"
        }
      ],
      "source": [
        "response.ok"
      ]
    },
    {
      "cell_type": "code",
      "execution_count": null,
      "id": "ea5c2b5e-7710-4fb1-a295-fe1b376fc32f",
      "metadata": {
        "id": "ea5c2b5e-7710-4fb1-a295-fe1b376fc32f",
        "outputId": "af58c909-78eb-4f23-af42-df205d95e52a"
      },
      "outputs": [
        {
          "data": {
            "text/plain": [
              "False"
            ]
          },
          "execution_count": 70,
          "metadata": {},
          "output_type": "execute_result"
        }
      ],
      "source": [
        "response.is_redirect"
      ]
    },
    {
      "cell_type": "code",
      "execution_count": null,
      "id": "f03db06c-c122-426f-96ea-17f62934d4b1",
      "metadata": {
        "id": "f03db06c-c122-426f-96ea-17f62934d4b1",
        "outputId": "eb1c0a2b-245d-47eb-ecdd-5ed4f8ea2a6b"
      },
      "outputs": [
        {
          "data": {
            "text/plain": [
              "{'User-Agent': 'python-requests/2.31.0', 'Accept-Encoding': 'gzip, deflate', 'Accept': '*/*', 'Connection': 'keep-alive'}"
            ]
          },
          "execution_count": 71,
          "metadata": {},
          "output_type": "execute_result"
        }
      ],
      "source": [
        "response.request.headers"
      ]
    },
    {
      "cell_type": "code",
      "execution_count": null,
      "id": "51c04943-f941-405e-8217-5fd33b6680b2",
      "metadata": {
        "id": "51c04943-f941-405e-8217-5fd33b6680b2",
        "outputId": "98151746-511f-42c7-d401-673688b50d67"
      },
      "outputs": [
        {
          "data": {
            "text/plain": [
              "'gzip'"
            ]
          },
          "execution_count": 72,
          "metadata": {},
          "output_type": "execute_result"
        }
      ],
      "source": [
        "response.headers['content-encoding']"
      ]
    },
    {
      "cell_type": "code",
      "execution_count": null,
      "id": "6cddf7cd-53e6-4ee7-8d5e-35e38b430fdf",
      "metadata": {
        "id": "6cddf7cd-53e6-4ee7-8d5e-35e38b430fdf",
        "outputId": "aee530d2-6b14-4f93-f56b-cdd9553debda"
      },
      "outputs": [
        {
          "data": {
            "text/plain": [
              "b'<!DOCTYPE html>\\n<html lang=\"en\">\\n<head>\\n  <meta charset=\"utf-8\">\\n  <title>Debian -- The Universal Operating System </title>\\n  <link rel=\"author\" href=\"mailto:webmaster@debian.org\">\\n  <meta name=\"Description\" content=\"Debian is an operating system and a distribution of Free Software. It is maintained and updated through the work of many users who volunteer their time and effort.\">\\n  <meta name=\"Generator\" content=\"WML 2.32.0\">\\n  <meta name=\"Modified\" content=\"2023-09-28 23:28:43\">\\n  <meta name=\"viewport\" content=\"width=device-width\">\\n  <meta name=\"mobileoptimized\" content=\"300\">\\n  <meta name=\"HandheldFriendly\" content=\"true\">\\n<link rel=\"alternate\" type=\"application/rss+xml\"\\n title=\"Debian News\" href=\"News/news\">\\n<link rel=\"alternate\" type=\"application/rss+xml\"\\n title=\"Debian Project News\" href=\"News/weekly/dwn\">\\n<link rel=\"alternate\" type=\"application/rss+xml\"\\n title=\"Debian Security Advisories (titles only)\" href=\"security/dsa\">\\n<link rel=\"alternate\" type=\"application/rss+xml\"\\n title=\"Debian Security Advisories (summaries)\" href=\"security/dsa-long\">\\n<link href=\"./debhome.css\" rel=\"stylesheet\" type=\"text/css\">\\n   <link href=\"./startpage.css\" rel=\"stylesheet\" type=\"text/css\">\\n   <link href=\"./5img-carousel-slider.css\" rel=\"stylesheet\" type=\"text/css\">\\n  <link href=\"./debian-en.css\" rel=\"stylesheet\" type=\"text/css\" media=\"all\">\\n  <link rel=\"shortcut icon\" href=\"favicon.ico\">\\n  <meta name=\"Keywords\" content=\"debian, GNU, linux, unix, open source, free, DFSG\">\\n<link rel=\"search\" type=\"application/opensearchdescription+xml\" title=\"Debian website search\" href=\"./search.en.xml\">\\n</head>\\n<body>\\n<div id=\"header\">\\n  <div id=\"upperheader\">\\n    <div id=\"logo\">\\n    <a href=\"./\" title=\"Debian Home\"><img src=\"./Pics/openlogo-50.png\" alt=\"Debian\" width=\"50\" height=\"61\"></a>\\n    </div> <!-- end logo -->\\n    <div id=\"searchbox\">\\n      <form name=\"p\" method=\"get\" action=\"https://search.debian.org/cgi-bin/omega\">\\n      <p>\\n<input type=\"hidden\" name=\"DB\" value=\"en\">\\n        <input name=\"P\" value=\"\" size=\"14\">\\n        <input type=\"submit\" value=\"Search\">\\n      </p>\\n      </form>\\n    </div>   <!-- end sitetools -->\\n  </div> <!-- end upperheader -->\\n  <!--UdmComment-->\\n  <div id=\"navbar\">\\n    <p class=\"hidecss\"><a href=\"#content\">Skip Quicknav</a></p>\\n    <ul>\\n      <!-- Link to Debian\\'s own Social Media resources -->\\n      <li><a href=\"https://bits.debian.org/\" title=\"Bits from Debian\">Blog</a></li>\\n      <li><a href=\"https://micronews.debian.org\" title=\"Micronews from Debian\">Micronews</a></li>\\n      <li><a href=\"https://planet.debian.org/\" title=\"The Planet of Debian\">Planet</a></li>\\n    </ul>\\n  </div> <!-- end navbar -->\\n  <p id=\"breadcrumbs\">&nbsp; </p>\\n</div> <!-- end header -->\\n<!--/UdmComment-->\\n<section>\\n<div id=\"splash\">\\n  <h1>Debian</h1>\\n</div>\\n<!-- The first row of columns on the site. -->\\n<div class=\"row\">\\n  <div class=\"column column-left\">\\n    <div style=\"text-align: center\">\\n      <h1>The Community</h1>\\n      <h2>Debian is a Community of People!</h2>\\n<!-- The following div is containing the static image carousel.\\n     Currently made of five images. -->\\n<div class=\"wrapper\">\\n  <input checked type=\"radio\" name=\"slider\" id=\"slide1\">\\n  <input type=\"radio\" name=\"slider\" id=\"slide2\">\\n  <input type=\"radio\" name=\"slider\" id=\"slide3\">\\n  <input type=\"radio\" name=\"slider\" id=\"slide4\">\\n  <input type=\"radio\" name=\"slider\" id=\"slide5\">\\n  <input type=\"radio\" name=\"slider\" id=\"slide6\">\\n  <div class=\"slider-wrapper\">\\n    <div class=\"inner\">\\n     <article>\\n      <div class=\"info bottom-right\">\\n       <h3>DC22 Group Photo</h3>\\n      </div>\\n      <img src=\"Pics/debconf22_group_photo.jpg\" alt=\"DebConf22 Group Photo\" width=\"851\" height=\"575\">\\n     </article>\\n     <article>\\n      <div class=\"info top-left\">\\n       <h3>Debian Reunion Hamburg 2023</h3>\\n      </div>\\n      <img src=\"Pics/mini-dc23-hamburg.jpg\" alt=\"Group photo of the Debian Reunion Hamburg 2023\" width=\"1024\" height=\"575\">\\n     </article>\\n     <article>\\n      <div class=\"info top-left\">\\n       <h3>MiniDebConf Bras\\xc3\\xadlia 2023</h3>\\n      </div>\\n      <img src=\"Pics/mini-dc23-brasilia.jpg\" alt=\"Group photo of the MiniDebConf Bras\\xc3\\xadlia 2023\" width=\"1024\" height=\"575\">\\n     </article>\\n     <article>\\n      <div class=\"info top-left\">\\n       <h3>Screenshot Calamares Installer</h3>\\n      </div>\\n      <img src=\"Pics/calamares-bookworm.png\" alt=\"Screenshot from the Calamares installer\" width=\"1024\" height=\"575\">\\n     </article>\\n     <article>\\n      <div class=\"info top-left\">\\n       <h3>Debian is like a Swiss Army Knife</h3>\\n      </div>\\n      <img src=\"Pics/debian-swiss-knife-hands-1024x576.jpg\" alt=\"Debian is like a Swiss Army Knife\" width=\"1024\" height=\"576\">\\n     </article>\\n     <article>\\n      <div class=\"info top-left\">\\n       <h3>People have fun with Debian</h3>\\n      </div>\\n      <img src=\"Pics/debian-funny-people-1024x576.jpg\" alt=\"Debian people at Debconf18 in Hsinchu really having fun\" width=\"1024\" height=\"576\">\\n     </article>\\n    </div>  <!-- .inner -->\\n  </div>  <!-- .slider-wrapper -->\\n  <div class=\"slider-prev-next-control\">\\n   <label for=\"slide1\"></label>\\n   <label for=\"slide2\"></label>\\n   <label for=\"slide3\"></label>\\n   <label for=\"slide4\"></label>\\n   <label for=\"slide5\"></label>\\n   <label for=\"slide6\"></label>\\n  </div>  <!-- .slider-prev-next-control -->\\n  <div class=\"slider-dot-control\">\\n   <label for=\"slide1\"></label>\\n   <label for=\"slide2\"></label>\\n   <label for=\"slide3\"></label>\\n   <label for=\"slide4\"></label>\\n   <label for=\"slide5\"></label>\\n   <label for=\"slide6\"></label>\\n  </div>  <!-- .slider-dot-control -->\\n </div>\\n</div>\\n    <div class=\"row\">\\n      <div class=\"community column\">\\n        <a href=\"intro/people\" aria-hidden=\"true\">\\n          <img src=\"Pics/users.svg\" width=\"512\" alt=\"\">\\n        </a>\\n      </div>\\n      <div class=\"styled-href-blue column-4-parts\">\\n        <h2><a href=\"intro/people\">People</a></h2>\\n        <p>Who we are and what we do</p>\\n      </div>\\n    </div>\\n    <div class=\"row\">\\n      <div class=\"community column\">\\n        <a href=\"intro/philosophy\" aria-hidden=\"true\">\\n          <img src=\"Pics/heartbeat.svg\" width=\"512\" alt=\"\">\\n        </a>\\n      </div>\\n      <div class=\"styled-href-blue column-4-parts\">\\n        <h2><a href=\"intro/philosophy\">Our Philosophy</a></h2>\\n        <p>Why we do it, and how we do it</p>\\n      </div>\\n    </div>\\n    <div class=\"row\">\\n      <div class=\"community column\">\\n        <a href=\"devel/join/\" aria-hidden=\"true\">\\n          <img src=\"Pics/user-plus.svg\" width=\"512\" alt=\"\">\\n        </a>\\n      </div>\\n      <div class=\"styled-href-blue column-4-parts\">\\n        <h2><a href=\"devel/join/\">Get Involved, Contribute</a></h2>\\n        <p>How you can join us!</p>\\n      </div>\\n    </div>\\n    <div class=\"row\">\\n      <div class=\"community column\">\\n        <a href=\"intro/index#community\" aria-hidden=\"true\">\\n          <img src=\"Pics/list.svg\" width=\"512\" alt=\"\">\\n        </a>\\n      </div>\\n      <div class=\"styled-href-blue column-4-parts\">\\n        <h2><a href=\"intro/index#community\">More...</a></h2>\\n        <p>Additional information about the Debian community</p>\\n      </div>\\n    </div>\\n  </div>\\n  <div class=\"column column-right\">\\n    <div style=\"text-align: center\">\\n      <h1>The Operating System</h1>\\n      <h2>Debian is a complete Free Operating System!</h2>\\n      <div class=\"os-img-container\">\\n        <img src=\"Pics/debian-logo-1024x576.png\" alt=\"Debian\" width=\"1024\" height=\"576\">\\n        <a href=\"https://cdimage.debian.org/debian-cd/current/amd64/iso-cd/debian-12.1.0-amd64-netinst.iso\" class=\"os-dl-btn\">Download</a>\\n        <a href=\"distrib\" class=\"os-other-download\">Other downloads</a>\\n</div>\\n    </div>\\n    <div class=\"row\">\\n      <div class=\"community column\">\\n        <a href=\"intro/why_debian\" aria-hidden=\"true\">\\n          <img src=\"Pics/trophy.svg\" width=\"512\" alt=\"\">\\n        </a>\\n      </div>\\n      <div class=\"styled-href-blue column-4-parts\">\\n        <h2><a href=\"intro/why_debian\">Why Debian</a></h2>\\n        <p>What makes Debian special</p>\\n      </div>\\n    </div>\\n    <div class=\"row\">\\n      <div class=\"community column\">\\n        <a href=\"support\" aria-hidden=\"true\">\\n          <img src=\"Pics/life-ring.svg\" width=\"512\" alt=\"\">\\n        </a>\\n      </div>\\n      <div class=\"styled-href-blue column-4-parts\">\\n        <h2><a href=\"support\">User Support</a></h2>\\n        <p>Getting help and documentation</p>\\n      </div>\\n    </div>\\n    <div class=\"row\">\\n      <div class=\"community column\">\\n        <a href=\"security/\" aria-hidden=\"true\">\\n          <img src=\"Pics/security.svg\" width=\"512\" alt=\"\">\\n        </a>\\n      </div>\\n      <div class=\"styled-href-blue column-4-parts\">\\n        <h2><a href=\"security/\">Security Updates</a></h2>\\n        <p>Debian Security Advisories (DSA)</p>\\n      </div>\\n    </div>\\n    <div class=\"row\">\\n      <div class=\"community column\">\\n        <a href=\"intro/index#software\" aria-hidden=\"true\">\\n          <img src=\"Pics/list.svg\" width=\"512\" alt=\"\">\\n        </a>\\n      </div>\\n      <div class=\"styled-href-blue column-4-parts\">\\n        <h2><a href=\"intro/index#software\">More...</a></h2>\\n        <p>Further links to downloads and software</p>\\n      </div>\\n    </div>\\n  </div>\\n</div>\\n<hr>\\n<!-- An optional row highlighting events happening now, such as releases, point releases, debconf and minidebconfs, and elections (dpl, GRs...). -->\\n<!-- The next row of columns on the site. -->\\n<!-- The News will be selected by the press team. -->\\n<div class=\"row\">\\n  <div class=\"column styled-href-blue column-left\">\\n    <div style=\"text-align: center\">\\n      <h1>Project News</h1>\\n      <h2>News and Announcements about Debian</h2>\\n    </div>\\n    <div class=\"project-news\"><time datetime=\"2023-09-18\" class=\"date-as-calendar position-em size1_25x\"><span class=\"day\">18</span><span class=\"month\">September</span><span class=\"year\">2023</span></time><div class=\"project-news-content\"><a href=\"News/2023/20230918\">DebConf23 closes in Kochi and DebConf24 location announced</a></div></div>\\n<div class=\"project-news\"><time datetime=\"2023-09-14\" class=\"date-as-calendar position-em size1_25x\"><span class=\"day\">14</span><span class=\"month\">September</span><span class=\"year\">2023</span></time><div class=\"project-news-content\"><a href=\"News/2023/20230914\">The Debian Project mourns the loss of Abraham Raji</a></div></div>\\n<div class=\"project-news\"><time datetime=\"2023-07-22\" class=\"date-as-calendar position-em size1_25x\"><span class=\"day\">22</span><span class=\"month\">July</span><span class=\"year\">2023</span></time><div class=\"project-news-content\"><a href=\"News/2023/20230722\">Updated Debian 12: 12.1 released</a></div></div>\\n<div class=\"project-news\"><time datetime=\"2023-06-10\" class=\"date-as-calendar position-em size1_25x\"><span class=\"day\">10</span><span class=\"month\">June</span><span class=\"year\">2023</span></time><div class=\"project-news-content\"><a href=\"News/2023/20230610\">Debian 12 <q>bookworm</q> released</a></div></div>\\n<div class=\"project-news\"><time datetime=\"2023-04-29\" class=\"date-as-calendar position-em size1_25x\"><span class=\"day\">29</span><span class=\"month\">April</span><span class=\"year\">2023</span></time><div class=\"project-news-content\"><a href=\"News/2023/20230429\">Updated Debian 11: 11.7 released</a></div></div>\\n    <!-- No more News entries behind this line! -->\\n    <div class=\"project-news\">\\n      <div class=\"end-of-list-arrow\"></div>\\n      <div class=\"project-news-content project-news-content-end\">\\n        <a href=\"News\">All the news</a> &emsp;&emsp;\\n\\t<a class=\"rss_logo\" style=\"float: none\" href=\"News/news\">RSS</a>\\n      </div>\\n    </div>\\n  </div>\\n</div>\\n<div class=\"clr\"></div>\\n</section> <!-- end content -->\\n<footer id=\"footer\">\\n  <hr class=\"hidecss\">\\n  <!--UdmComment-->\\n<div id=\"pageLang\">\\n<div id=\"langSelector\">\\nThis page is also available in the following languages:\\n<div id=\"langContainer\">\\n <a href=\"index.ar.html\" title=\"Arabic\" hreflang=\"ar\" lang=\"ar\" rel=\"alternate\">&#1593;&#1585;&#1576;&#1610;&#1577;&nbsp;(Arabiya)</a>\\n <a href=\"index.bg.html\" title=\"Bulgarian\" hreflang=\"bg\" lang=\"bg\" rel=\"alternate\">&#1041;&#1098;&#1083;&#1075;&#1072;&#1088;&#1089;&#1082;&#1080;&nbsp;(B&#601;lgarski)</a>\\n <a href=\"index.ca.html\" title=\"Catalan\" hreflang=\"ca\" lang=\"ca\" rel=\"alternate\">catal&agrave;</a>\\n <a href=\"index.da.html\" title=\"Danish\" hreflang=\"da\" lang=\"da\" rel=\"alternate\">dansk</a>\\n <a href=\"index.de.html\" title=\"German\" hreflang=\"de\" lang=\"de\" rel=\"alternate\">Deutsch</a>\\n <a href=\"index.el.html\" title=\"Greek\" hreflang=\"el\" lang=\"el\" rel=\"alternate\">&#917;&#955;&#955;&#951;&#957;&#953;&#954;&#940;&nbsp;(Ellinika)</a>\\n <a href=\"index.es.html\" title=\"Spanish\" hreflang=\"es\" lang=\"es\" rel=\"alternate\">espa&ntilde;ol</a>\\n <a href=\"index.fa.html\" title=\"Persian\" hreflang=\"fa\" lang=\"fa\" rel=\"alternate\">&#x0641;&#x0627;&#x0631;&#x0633;&#x06cc;&nbsp;(Farsi)</a>\\n <a href=\"index.fr.html\" title=\"French\" hreflang=\"fr\" lang=\"fr\" rel=\"alternate\">fran&ccedil;ais</a>\\n <a href=\"index.gl.html\" title=\"Galician\" hreflang=\"gl\" lang=\"gl\" rel=\"alternate\">Galego</a>\\n <a href=\"index.hy.html\" title=\"Armenian\" hreflang=\"hy\" lang=\"hy\" rel=\"alternate\">&#1344;&#1377;&#1397;&#1381;&#1408;&#1381;&#1398;&nbsp;(hayeren)</a>\\n <a href=\"index.id.html\" title=\"Indonesian\" hreflang=\"id\" lang=\"id\" rel=\"alternate\">Indonesia</a>\\n <a href=\"index.it.html\" title=\"Italian\" hreflang=\"it\" lang=\"it\" rel=\"alternate\">Italiano</a>\\n <a href=\"index.ko.html\" title=\"Korean\" hreflang=\"ko\" lang=\"ko\" rel=\"alternate\">&#54620;&#44397;&#50612;&nbsp;(Korean)</a>\\n <a href=\"index.hu.html\" title=\"Hungarian\" hreflang=\"hu\" lang=\"hu\" rel=\"alternate\">magyar</a>\\n <a href=\"index.nl.html\" title=\"Dutch\" hreflang=\"nl\" lang=\"nl\" rel=\"alternate\">Nederlands</a>\\n <a href=\"index.nb.html\" title=\"Norwegian\" hreflang=\"nb\" lang=\"nb\" rel=\"alternate\">norsk&nbsp;(bokm&aring;l)</a>\\n <a href=\"index.pl.html\" title=\"Polish\" hreflang=\"pl\" lang=\"pl\" rel=\"alternate\">polski</a>\\n <a href=\"index.pt.html\" title=\"Portuguese\" hreflang=\"pt\" lang=\"pt\" rel=\"alternate\">Portugu&ecirc;s</a>\\n <a href=\"index.ru.html\" title=\"Russian\" hreflang=\"ru\" lang=\"ru\" rel=\"alternate\">&#1056;&#1091;&#1089;&#1089;&#1082;&#1080;&#1081;&nbsp;(Russkij)</a>\\n <a href=\"index.fi.html\" title=\"Finnish\" hreflang=\"fi\" lang=\"fi\" rel=\"alternate\">suomi</a>\\n <a href=\"index.sv.html\" title=\"Swedish\" hreflang=\"sv\" lang=\"sv\" rel=\"alternate\">svenska</a>\\n <a href=\"index.vi.html\" title=\"Vietnamese\" hreflang=\"vi\" lang=\"vi\" rel=\"alternate\">Ti&#7871;ng Vi&#7879;t</a>\\n <a href=\"index.uk.html\" title=\"Ukrainian\" hreflang=\"uk\" lang=\"uk\" rel=\"alternate\">&#1091;&#1082;&#1088;&#1072;&#1111;&#1085;&#1089;&#1100;&#1082;&#1072;&nbsp;(ukrajins\\'ka)</a>\\n <a href=\"index.zh-cn.html\" title=\"Chinese (China)\" hreflang=\"zh-CN\" lang=\"zh-CN\" rel=\"alternate\">&#20013;&#25991;(&#31616;)</a>\\n <a href=\"index.zh-hk.html\" title=\"Chinese (Hong Kong)\" hreflang=\"zh-HK\" lang=\"zh-HK\" rel=\"alternate\">&#20013;&#25991;(HK)</a>\\n <a href=\"index.zh-tw.html\" title=\"Chinese (Taiwan)\" hreflang=\"zh-TW\" lang=\"zh-TW\" rel=\"alternate\">&#20013;&#25991;(&#32321;)</a>\\n</div>\\nHow to set <a href=\"./intro/cn\">the default document language</a>\\n</div></div><!--/UdmComment-->\\n<hr>\\n<!--UdmComment-->\\n<div id=\"fineprint\">\\n  <p>See our <a href=\"./contact\">contact page</a> to get in touch. Web site source code is <a href=\"https://salsa.debian.org/webmaster-team/webwml\">available</a>.</p>\\n<p>\\nLast Modified: Sun, Sep 17 04:58:52 UTC 2023\\n&emsp;\\nLast Built: Thu, Sep 28 23:28:44 UTC 2023\\n  <br>\\n  Copyright &copy; 1997-2023\\n <a href=\"https://www.spi-inc.org/\">SPI</a> and others; See <a href=\"./license\" rel=\"copyright\">license terms</a><br>\\n  Debian is a registered <a href=\"./trademark\">trademark</a> of Software in the Public Interest, Inc.\\n</p>\\n</div>\\n<!--/UdmComment-->\\n</footer> <!-- end footer -->\\n</body>\\n</html>\\n'"
            ]
          },
          "execution_count": 73,
          "metadata": {},
          "output_type": "execute_result"
        }
      ],
      "source": [
        "response.content"
      ]
    },
    {
      "cell_type": "code",
      "execution_count": null,
      "id": "45f4a7f1-f823-491b-b504-45c43390c047",
      "metadata": {
        "id": "45f4a7f1-f823-491b-b504-45c43390c047",
        "outputId": "3c1fff20-bef2-44c3-b813-1ae161a9d848"
      },
      "outputs": [
        {
          "data": {
            "text/plain": [
              "'<!DOCTYPE html>\\n<html lang=\"en\">\\n<head>\\n  <meta charset=\"utf-8\">\\n  <title>Debian -- The Universal Operating System </title>\\n  <link rel=\"author\" href=\"mailto:webmaster@debian.org\">\\n  <meta name=\"Description\" content=\"Debian is an operating system and a distribution of Free Software. It is maintained and updated through the work of many users who volunteer their time and effort.\">\\n  <meta name=\"Generator\" content=\"WML 2.32.0\">\\n  <meta name=\"Modified\" content=\"2023-09-28 23:28:43\">\\n  <meta name=\"viewport\" content=\"width=device-width\">\\n  <meta name=\"mobileoptimized\" content=\"300\">\\n  <meta name=\"HandheldFriendly\" content=\"true\">\\n<link rel=\"alternate\" type=\"application/rss+xml\"\\n title=\"Debian News\" href=\"News/news\">\\n<link rel=\"alternate\" type=\"application/rss+xml\"\\n title=\"Debian Project News\" href=\"News/weekly/dwn\">\\n<link rel=\"alternate\" type=\"application/rss+xml\"\\n title=\"Debian Security Advisories (titles only)\" href=\"security/dsa\">\\n<link rel=\"alternate\" type=\"application/rss+xml\"\\n title=\"Debian Security Advisories (summaries)\" href=\"security/dsa-long\">\\n<link href=\"./debhome.css\" rel=\"stylesheet\" type=\"text/css\">\\n   <link href=\"./startpage.css\" rel=\"stylesheet\" type=\"text/css\">\\n   <link href=\"./5img-carousel-slider.css\" rel=\"stylesheet\" type=\"text/css\">\\n  <link href=\"./debian-en.css\" rel=\"stylesheet\" type=\"text/css\" media=\"all\">\\n  <link rel=\"shortcut icon\" href=\"favicon.ico\">\\n  <meta name=\"Keywords\" content=\"debian, GNU, linux, unix, open source, free, DFSG\">\\n<link rel=\"search\" type=\"application/opensearchdescription+xml\" title=\"Debian website search\" href=\"./search.en.xml\">\\n</head>\\n<body>\\n<div id=\"header\">\\n  <div id=\"upperheader\">\\n    <div id=\"logo\">\\n    <a href=\"./\" title=\"Debian Home\"><img src=\"./Pics/openlogo-50.png\" alt=\"Debian\" width=\"50\" height=\"61\"></a>\\n    </div> <!-- end logo -->\\n    <div id=\"searchbox\">\\n      <form name=\"p\" method=\"get\" action=\"https://search.debian.org/cgi-bin/omega\">\\n      <p>\\n<input type=\"hidden\" name=\"DB\" value=\"en\">\\n        <input name=\"P\" value=\"\" size=\"14\">\\n        <input type=\"submit\" value=\"Search\">\\n      </p>\\n      </form>\\n    </div>   <!-- end sitetools -->\\n  </div> <!-- end upperheader -->\\n  <!--UdmComment-->\\n  <div id=\"navbar\">\\n    <p class=\"hidecss\"><a href=\"#content\">Skip Quicknav</a></p>\\n    <ul>\\n      <!-- Link to Debian\\'s own Social Media resources -->\\n      <li><a href=\"https://bits.debian.org/\" title=\"Bits from Debian\">Blog</a></li>\\n      <li><a href=\"https://micronews.debian.org\" title=\"Micronews from Debian\">Micronews</a></li>\\n      <li><a href=\"https://planet.debian.org/\" title=\"The Planet of Debian\">Planet</a></li>\\n    </ul>\\n  </div> <!-- end navbar -->\\n  <p id=\"breadcrumbs\">&nbsp; </p>\\n</div> <!-- end header -->\\n<!--/UdmComment-->\\n<section>\\n<div id=\"splash\">\\n  <h1>Debian</h1>\\n</div>\\n<!-- The first row of columns on the site. -->\\n<div class=\"row\">\\n  <div class=\"column column-left\">\\n    <div style=\"text-align: center\">\\n      <h1>The Community</h1>\\n      <h2>Debian is a Community of People!</h2>\\n<!-- The following div is containing the static image carousel.\\n     Currently made of five images. -->\\n<div class=\"wrapper\">\\n  <input checked type=\"radio\" name=\"slider\" id=\"slide1\">\\n  <input type=\"radio\" name=\"slider\" id=\"slide2\">\\n  <input type=\"radio\" name=\"slider\" id=\"slide3\">\\n  <input type=\"radio\" name=\"slider\" id=\"slide4\">\\n  <input type=\"radio\" name=\"slider\" id=\"slide5\">\\n  <input type=\"radio\" name=\"slider\" id=\"slide6\">\\n  <div class=\"slider-wrapper\">\\n    <div class=\"inner\">\\n     <article>\\n      <div class=\"info bottom-right\">\\n       <h3>DC22 Group Photo</h3>\\n      </div>\\n      <img src=\"Pics/debconf22_group_photo.jpg\" alt=\"DebConf22 Group Photo\" width=\"851\" height=\"575\">\\n     </article>\\n     <article>\\n      <div class=\"info top-left\">\\n       <h3>Debian Reunion Hamburg 2023</h3>\\n      </div>\\n      <img src=\"Pics/mini-dc23-hamburg.jpg\" alt=\"Group photo of the Debian Reunion Hamburg 2023\" width=\"1024\" height=\"575\">\\n     </article>\\n     <article>\\n      <div class=\"info top-left\">\\n       <h3>MiniDebConf BrasÃ\\xadlia 2023</h3>\\n      </div>\\n      <img src=\"Pics/mini-dc23-brasilia.jpg\" alt=\"Group photo of the MiniDebConf BrasÃ\\xadlia 2023\" width=\"1024\" height=\"575\">\\n     </article>\\n     <article>\\n      <div class=\"info top-left\">\\n       <h3>Screenshot Calamares Installer</h3>\\n      </div>\\n      <img src=\"Pics/calamares-bookworm.png\" alt=\"Screenshot from the Calamares installer\" width=\"1024\" height=\"575\">\\n     </article>\\n     <article>\\n      <div class=\"info top-left\">\\n       <h3>Debian is like a Swiss Army Knife</h3>\\n      </div>\\n      <img src=\"Pics/debian-swiss-knife-hands-1024x576.jpg\" alt=\"Debian is like a Swiss Army Knife\" width=\"1024\" height=\"576\">\\n     </article>\\n     <article>\\n      <div class=\"info top-left\">\\n       <h3>People have fun with Debian</h3>\\n      </div>\\n      <img src=\"Pics/debian-funny-people-1024x576.jpg\" alt=\"Debian people at Debconf18 in Hsinchu really having fun\" width=\"1024\" height=\"576\">\\n     </article>\\n    </div>  <!-- .inner -->\\n  </div>  <!-- .slider-wrapper -->\\n  <div class=\"slider-prev-next-control\">\\n   <label for=\"slide1\"></label>\\n   <label for=\"slide2\"></label>\\n   <label for=\"slide3\"></label>\\n   <label for=\"slide4\"></label>\\n   <label for=\"slide5\"></label>\\n   <label for=\"slide6\"></label>\\n  </div>  <!-- .slider-prev-next-control -->\\n  <div class=\"slider-dot-control\">\\n   <label for=\"slide1\"></label>\\n   <label for=\"slide2\"></label>\\n   <label for=\"slide3\"></label>\\n   <label for=\"slide4\"></label>\\n   <label for=\"slide5\"></label>\\n   <label for=\"slide6\"></label>\\n  </div>  <!-- .slider-dot-control -->\\n </div>\\n</div>\\n    <div class=\"row\">\\n      <div class=\"community column\">\\n        <a href=\"intro/people\" aria-hidden=\"true\">\\n          <img src=\"Pics/users.svg\" width=\"512\" alt=\"\">\\n        </a>\\n      </div>\\n      <div class=\"styled-href-blue column-4-parts\">\\n        <h2><a href=\"intro/people\">People</a></h2>\\n        <p>Who we are and what we do</p>\\n      </div>\\n    </div>\\n    <div class=\"row\">\\n      <div class=\"community column\">\\n        <a href=\"intro/philosophy\" aria-hidden=\"true\">\\n          <img src=\"Pics/heartbeat.svg\" width=\"512\" alt=\"\">\\n        </a>\\n      </div>\\n      <div class=\"styled-href-blue column-4-parts\">\\n        <h2><a href=\"intro/philosophy\">Our Philosophy</a></h2>\\n        <p>Why we do it, and how we do it</p>\\n      </div>\\n    </div>\\n    <div class=\"row\">\\n      <div class=\"community column\">\\n        <a href=\"devel/join/\" aria-hidden=\"true\">\\n          <img src=\"Pics/user-plus.svg\" width=\"512\" alt=\"\">\\n        </a>\\n      </div>\\n      <div class=\"styled-href-blue column-4-parts\">\\n        <h2><a href=\"devel/join/\">Get Involved, Contribute</a></h2>\\n        <p>How you can join us!</p>\\n      </div>\\n    </div>\\n    <div class=\"row\">\\n      <div class=\"community column\">\\n        <a href=\"intro/index#community\" aria-hidden=\"true\">\\n          <img src=\"Pics/list.svg\" width=\"512\" alt=\"\">\\n        </a>\\n      </div>\\n      <div class=\"styled-href-blue column-4-parts\">\\n        <h2><a href=\"intro/index#community\">More...</a></h2>\\n        <p>Additional information about the Debian community</p>\\n      </div>\\n    </div>\\n  </div>\\n  <div class=\"column column-right\">\\n    <div style=\"text-align: center\">\\n      <h1>The Operating System</h1>\\n      <h2>Debian is a complete Free Operating System!</h2>\\n      <div class=\"os-img-container\">\\n        <img src=\"Pics/debian-logo-1024x576.png\" alt=\"Debian\" width=\"1024\" height=\"576\">\\n        <a href=\"https://cdimage.debian.org/debian-cd/current/amd64/iso-cd/debian-12.1.0-amd64-netinst.iso\" class=\"os-dl-btn\">Download</a>\\n        <a href=\"distrib\" class=\"os-other-download\">Other downloads</a>\\n</div>\\n    </div>\\n    <div class=\"row\">\\n      <div class=\"community column\">\\n        <a href=\"intro/why_debian\" aria-hidden=\"true\">\\n          <img src=\"Pics/trophy.svg\" width=\"512\" alt=\"\">\\n        </a>\\n      </div>\\n      <div class=\"styled-href-blue column-4-parts\">\\n        <h2><a href=\"intro/why_debian\">Why Debian</a></h2>\\n        <p>What makes Debian special</p>\\n      </div>\\n    </div>\\n    <div class=\"row\">\\n      <div class=\"community column\">\\n        <a href=\"support\" aria-hidden=\"true\">\\n          <img src=\"Pics/life-ring.svg\" width=\"512\" alt=\"\">\\n        </a>\\n      </div>\\n      <div class=\"styled-href-blue column-4-parts\">\\n        <h2><a href=\"support\">User Support</a></h2>\\n        <p>Getting help and documentation</p>\\n      </div>\\n    </div>\\n    <div class=\"row\">\\n      <div class=\"community column\">\\n        <a href=\"security/\" aria-hidden=\"true\">\\n          <img src=\"Pics/security.svg\" width=\"512\" alt=\"\">\\n        </a>\\n      </div>\\n      <div class=\"styled-href-blue column-4-parts\">\\n        <h2><a href=\"security/\">Security Updates</a></h2>\\n        <p>Debian Security Advisories (DSA)</p>\\n      </div>\\n    </div>\\n    <div class=\"row\">\\n      <div class=\"community column\">\\n        <a href=\"intro/index#software\" aria-hidden=\"true\">\\n          <img src=\"Pics/list.svg\" width=\"512\" alt=\"\">\\n        </a>\\n      </div>\\n      <div class=\"styled-href-blue column-4-parts\">\\n        <h2><a href=\"intro/index#software\">More...</a></h2>\\n        <p>Further links to downloads and software</p>\\n      </div>\\n    </div>\\n  </div>\\n</div>\\n<hr>\\n<!-- An optional row highlighting events happening now, such as releases, point releases, debconf and minidebconfs, and elections (dpl, GRs...). -->\\n<!-- The next row of columns on the site. -->\\n<!-- The News will be selected by the press team. -->\\n<div class=\"row\">\\n  <div class=\"column styled-href-blue column-left\">\\n    <div style=\"text-align: center\">\\n      <h1>Project News</h1>\\n      <h2>News and Announcements about Debian</h2>\\n    </div>\\n    <div class=\"project-news\"><time datetime=\"2023-09-18\" class=\"date-as-calendar position-em size1_25x\"><span class=\"day\">18</span><span class=\"month\">September</span><span class=\"year\">2023</span></time><div class=\"project-news-content\"><a href=\"News/2023/20230918\">DebConf23 closes in Kochi and DebConf24 location announced</a></div></div>\\n<div class=\"project-news\"><time datetime=\"2023-09-14\" class=\"date-as-calendar position-em size1_25x\"><span class=\"day\">14</span><span class=\"month\">September</span><span class=\"year\">2023</span></time><div class=\"project-news-content\"><a href=\"News/2023/20230914\">The Debian Project mourns the loss of Abraham Raji</a></div></div>\\n<div class=\"project-news\"><time datetime=\"2023-07-22\" class=\"date-as-calendar position-em size1_25x\"><span class=\"day\">22</span><span class=\"month\">July</span><span class=\"year\">2023</span></time><div class=\"project-news-content\"><a href=\"News/2023/20230722\">Updated Debian 12: 12.1 released</a></div></div>\\n<div class=\"project-news\"><time datetime=\"2023-06-10\" class=\"date-as-calendar position-em size1_25x\"><span class=\"day\">10</span><span class=\"month\">June</span><span class=\"year\">2023</span></time><div class=\"project-news-content\"><a href=\"News/2023/20230610\">Debian 12 <q>bookworm</q> released</a></div></div>\\n<div class=\"project-news\"><time datetime=\"2023-04-29\" class=\"date-as-calendar position-em size1_25x\"><span class=\"day\">29</span><span class=\"month\">April</span><span class=\"year\">2023</span></time><div class=\"project-news-content\"><a href=\"News/2023/20230429\">Updated Debian 11: 11.7 released</a></div></div>\\n    <!-- No more News entries behind this line! -->\\n    <div class=\"project-news\">\\n      <div class=\"end-of-list-arrow\"></div>\\n      <div class=\"project-news-content project-news-content-end\">\\n        <a href=\"News\">All the news</a> &emsp;&emsp;\\n\\t<a class=\"rss_logo\" style=\"float: none\" href=\"News/news\">RSS</a>\\n      </div>\\n    </div>\\n  </div>\\n</div>\\n<div class=\"clr\"></div>\\n</section> <!-- end content -->\\n<footer id=\"footer\">\\n  <hr class=\"hidecss\">\\n  <!--UdmComment-->\\n<div id=\"pageLang\">\\n<div id=\"langSelector\">\\nThis page is also available in the following languages:\\n<div id=\"langContainer\">\\n <a href=\"index.ar.html\" title=\"Arabic\" hreflang=\"ar\" lang=\"ar\" rel=\"alternate\">&#1593;&#1585;&#1576;&#1610;&#1577;&nbsp;(Arabiya)</a>\\n <a href=\"index.bg.html\" title=\"Bulgarian\" hreflang=\"bg\" lang=\"bg\" rel=\"alternate\">&#1041;&#1098;&#1083;&#1075;&#1072;&#1088;&#1089;&#1082;&#1080;&nbsp;(B&#601;lgarski)</a>\\n <a href=\"index.ca.html\" title=\"Catalan\" hreflang=\"ca\" lang=\"ca\" rel=\"alternate\">catal&agrave;</a>\\n <a href=\"index.da.html\" title=\"Danish\" hreflang=\"da\" lang=\"da\" rel=\"alternate\">dansk</a>\\n <a href=\"index.de.html\" title=\"German\" hreflang=\"de\" lang=\"de\" rel=\"alternate\">Deutsch</a>\\n <a href=\"index.el.html\" title=\"Greek\" hreflang=\"el\" lang=\"el\" rel=\"alternate\">&#917;&#955;&#955;&#951;&#957;&#953;&#954;&#940;&nbsp;(Ellinika)</a>\\n <a href=\"index.es.html\" title=\"Spanish\" hreflang=\"es\" lang=\"es\" rel=\"alternate\">espa&ntilde;ol</a>\\n <a href=\"index.fa.html\" title=\"Persian\" hreflang=\"fa\" lang=\"fa\" rel=\"alternate\">&#x0641;&#x0627;&#x0631;&#x0633;&#x06cc;&nbsp;(Farsi)</a>\\n <a href=\"index.fr.html\" title=\"French\" hreflang=\"fr\" lang=\"fr\" rel=\"alternate\">fran&ccedil;ais</a>\\n <a href=\"index.gl.html\" title=\"Galician\" hreflang=\"gl\" lang=\"gl\" rel=\"alternate\">Galego</a>\\n <a href=\"index.hy.html\" title=\"Armenian\" hreflang=\"hy\" lang=\"hy\" rel=\"alternate\">&#1344;&#1377;&#1397;&#1381;&#1408;&#1381;&#1398;&nbsp;(hayeren)</a>\\n <a href=\"index.id.html\" title=\"Indonesian\" hreflang=\"id\" lang=\"id\" rel=\"alternate\">Indonesia</a>\\n <a href=\"index.it.html\" title=\"Italian\" hreflang=\"it\" lang=\"it\" rel=\"alternate\">Italiano</a>\\n <a href=\"index.ko.html\" title=\"Korean\" hreflang=\"ko\" lang=\"ko\" rel=\"alternate\">&#54620;&#44397;&#50612;&nbsp;(Korean)</a>\\n <a href=\"index.hu.html\" title=\"Hungarian\" hreflang=\"hu\" lang=\"hu\" rel=\"alternate\">magyar</a>\\n <a href=\"index.nl.html\" title=\"Dutch\" hreflang=\"nl\" lang=\"nl\" rel=\"alternate\">Nederlands</a>\\n <a href=\"index.nb.html\" title=\"Norwegian\" hreflang=\"nb\" lang=\"nb\" rel=\"alternate\">norsk&nbsp;(bokm&aring;l)</a>\\n <a href=\"index.pl.html\" title=\"Polish\" hreflang=\"pl\" lang=\"pl\" rel=\"alternate\">polski</a>\\n <a href=\"index.pt.html\" title=\"Portuguese\" hreflang=\"pt\" lang=\"pt\" rel=\"alternate\">Portugu&ecirc;s</a>\\n <a href=\"index.ru.html\" title=\"Russian\" hreflang=\"ru\" lang=\"ru\" rel=\"alternate\">&#1056;&#1091;&#1089;&#1089;&#1082;&#1080;&#1081;&nbsp;(Russkij)</a>\\n <a href=\"index.fi.html\" title=\"Finnish\" hreflang=\"fi\" lang=\"fi\" rel=\"alternate\">suomi</a>\\n <a href=\"index.sv.html\" title=\"Swedish\" hreflang=\"sv\" lang=\"sv\" rel=\"alternate\">svenska</a>\\n <a href=\"index.vi.html\" title=\"Vietnamese\" hreflang=\"vi\" lang=\"vi\" rel=\"alternate\">Ti&#7871;ng Vi&#7879;t</a>\\n <a href=\"index.uk.html\" title=\"Ukrainian\" hreflang=\"uk\" lang=\"uk\" rel=\"alternate\">&#1091;&#1082;&#1088;&#1072;&#1111;&#1085;&#1089;&#1100;&#1082;&#1072;&nbsp;(ukrajins\\'ka)</a>\\n <a href=\"index.zh-cn.html\" title=\"Chinese (China)\" hreflang=\"zh-CN\" lang=\"zh-CN\" rel=\"alternate\">&#20013;&#25991;(&#31616;)</a>\\n <a href=\"index.zh-hk.html\" title=\"Chinese (Hong Kong)\" hreflang=\"zh-HK\" lang=\"zh-HK\" rel=\"alternate\">&#20013;&#25991;(HK)</a>\\n <a href=\"index.zh-tw.html\" title=\"Chinese (Taiwan)\" hreflang=\"zh-TW\" lang=\"zh-TW\" rel=\"alternate\">&#20013;&#25991;(&#32321;)</a>\\n</div>\\nHow to set <a href=\"./intro/cn\">the default document language</a>\\n</div></div><!--/UdmComment-->\\n<hr>\\n<!--UdmComment-->\\n<div id=\"fineprint\">\\n  <p>See our <a href=\"./contact\">contact page</a> to get in touch. Web site source code is <a href=\"https://salsa.debian.org/webmaster-team/webwml\">available</a>.</p>\\n<p>\\nLast Modified: Sun, Sep 17 04:58:52 UTC 2023\\n&emsp;\\nLast Built: Thu, Sep 28 23:28:44 UTC 2023\\n  <br>\\n  Copyright &copy; 1997-2023\\n <a href=\"https://www.spi-inc.org/\">SPI</a> and others; See <a href=\"./license\" rel=\"copyright\">license terms</a><br>\\n  Debian is a registered <a href=\"./trademark\">trademark</a> of Software in the Public Interest, Inc.\\n</p>\\n</div>\\n<!--/UdmComment-->\\n</footer> <!-- end footer -->\\n</body>\\n</html>\\n'"
            ]
          },
          "execution_count": 74,
          "metadata": {},
          "output_type": "execute_result"
        }
      ],
      "source": [
        "response.text"
      ]
    },
    {
      "cell_type": "code",
      "execution_count": null,
      "id": "3603ced8-34bf-4361-9b27-f93c71e8e9dd",
      "metadata": {
        "id": "3603ced8-34bf-4361-9b27-f93c71e8e9dd",
        "outputId": "4d1d8759-0490-4afe-e04d-0c9b5eab7a58"
      },
      "outputs": [
        {
          "data": {
            "text/plain": [
              "'ISO-8859-1'"
            ]
          },
          "execution_count": 75,
          "metadata": {},
          "output_type": "execute_result"
        }
      ],
      "source": [
        "response.encoding\n"
      ]
    },
    {
      "cell_type": "code",
      "execution_count": null,
      "id": "2fb3e654-b2d8-460c-83d8-ff1f2f8f39ba",
      "metadata": {
        "id": "2fb3e654-b2d8-460c-83d8-ff1f2f8f39ba",
        "outputId": "0fee66b3-9dde-4be1-b8b8-67e8439ab618"
      },
      "outputs": [
        {
          "name": "stdout",
          "output_type": "stream",
          "text": [
            "<RequestsCookieJar[<Cookie _octo=GH1.1.1692727573.1696352709 for .github.com/>, <Cookie logged_in=no for .github.com/>, <Cookie _gh_sess=4Fhg%2BbY8VEd6MhBCIOTYyMKCSAgR5SbmfKGfdh%2FAqAvU1BwN6mF7Xr2N%2BcurUkwvKAXLPh0hnuErxXa%2BMAgiINy367J8f0FZuWF9Al9L7SiMU%2F49f4%2BpjnvVXhmP4%2BCjcwy%2FM%2B2WODY%2BOdpT0GRJgG6Pp%2FAkOs%2BIQd3nDIKRi%2B8MngRkM7n84%2FjcW86PhqGT35c%2F465tJabO4HSsfLug7HN%2Bj%2BAgAZg3afHUjczAqr4O%2FSvCUelvDoLT%2FbfHD2rNRdfuBe3XsgPWrJHY%2B%2BI%2FMA%3D%3D--p8Q4zaqOLeOZi3T6--hp3HJGtwZQFYGqvXCWBi6g%3D%3D for github.com/>]>\n"
          ]
        }
      ],
      "source": [
        "response.encoding = 'utf-8'\n",
        "response = requests.get('http://www.github.com')\n",
        "print(response.cookies)"
      ]
    },
    {
      "cell_type": "code",
      "execution_count": null,
      "id": "052a0699-e1b4-4aa7-825c-cd2851e0782e",
      "metadata": {
        "id": "052a0699-e1b4-4aa7-825c-cd2851e0782e"
      },
      "outputs": [],
      "source": [
        "s = requests.Session()\n",
        "s.get('http://www.google.com')\n",
        "response = s.get('http://google.com/preferences')"
      ]
    },
    {
      "cell_type": "code",
      "execution_count": null,
      "id": "8c40e21b-4e4e-4da7-acad-11d5d31f02c9",
      "metadata": {
        "id": "8c40e21b-4e4e-4da7-acad-11d5d31f02c9",
        "outputId": "3dc34557-a8cc-4658-980a-9c8ee5dfc71e"
      },
      "outputs": [
        {
          "data": {
            "text/plain": [
              "200"
            ]
          },
          "execution_count": 78,
          "metadata": {},
          "output_type": "execute_result"
        }
      ],
      "source": [
        "response = requests.head('http://www.google.com')\n",
        "response.status_code"
      ]
    },
    {
      "cell_type": "code",
      "execution_count": null,
      "id": "d8a593cb-9fbb-4ec8-83f4-26272e80e69f",
      "metadata": {
        "id": "d8a593cb-9fbb-4ec8-83f4-26272e80e69f",
        "outputId": "cd7cb195-1711-4d20-832c-b983a0f73818"
      },
      "outputs": [
        {
          "data": {
            "text/plain": [
              "''"
            ]
          },
          "execution_count": 79,
          "metadata": {},
          "output_type": "execute_result"
        }
      ],
      "source": [
        "response.text"
      ]
    },
    {
      "cell_type": "code",
      "execution_count": null,
      "id": "e377c34d-f49e-4bbe-8fcb-49dc9d05e44a",
      "metadata": {
        "id": "e377c34d-f49e-4bbe-8fcb-49dc9d05e44a",
        "outputId": "89d445d4-2e6a-4a3b-90ad-69e1c16e71c3"
      },
      "outputs": [
        {
          "data": {
            "text/plain": [
              "'https://pypi.org/search/?q=Are+you+quite+sure+this+is+a+cheese+shop%3F'"
            ]
          },
          "execution_count": 80,
          "metadata": {},
          "output_type": "execute_result"
        }
      ],
      "source": [
        "headers = {'User-Agent': 'Mozilla/5.0 Firefox 24'}\n",
        "response = requests.get('http://www.debian.org', headers=headers)\n",
        "params = {':action': 'search', 'term': 'Are you quite sure this is a cheese shop?'}\n",
        "response = requests.get('http://pypi.python.org/pypi', params=params)\n",
        "response.url"
      ]
    },
    {
      "cell_type": "markdown",
      "id": "57238f66-fbdd-44ec-b2ca-9c6428c5326d",
      "metadata": {
        "id": "57238f66-fbdd-44ec-b2ca-9c6428c5326d"
      },
      "source": [
        "## Handling errors with Requests"
      ]
    },
    {
      "cell_type": "code",
      "execution_count": null,
      "id": "431e00ce-0d0e-4c76-a42a-29230d9af6cb",
      "metadata": {
        "id": "431e00ce-0d0e-4c76-a42a-29230d9af6cb"
      },
      "outputs": [],
      "source": [
        "data = {'P', 'Python'}\n",
        "response = requests.post('http://search.debian.org/cgi-bin/omega', data=data)"
      ]
    },
    {
      "cell_type": "code",
      "execution_count": null,
      "id": "04f523ba-b6df-443c-85e7-0d364eb8876a",
      "metadata": {
        "id": "04f523ba-b6df-443c-85e7-0d364eb8876a",
        "outputId": "c61c8852-a02e-4b33-af80-4e4e2e849dad"
      },
      "outputs": [
        {
          "data": {
            "text/plain": [
              "404"
            ]
          },
          "execution_count": 82,
          "metadata": {},
          "output_type": "execute_result"
        }
      ],
      "source": [
        "response = requests.get('http://www.google.com/notawebpage')\n",
        "response.status_code"
      ]
    },
    {
      "cell_type": "code",
      "execution_count": null,
      "id": "17d1ea1f-15d9-450e-ac11-eb6e696b10d4",
      "metadata": {
        "id": "17d1ea1f-15d9-450e-ac11-eb6e696b10d4",
        "outputId": "dd885584-ec19-429b-ae89-3a5c62413267"
      },
      "outputs": [
        {
          "ename": "HTTPError",
          "evalue": "404 Client Error: Not Found for url: http://www.google.com/notawebpage",
          "output_type": "error",
          "traceback": [
            "\u001b[1;31m---------------------------------------------------------------------\u001b[0m",
            "\u001b[1;31mHTTPError\u001b[0m                           Traceback (most recent call last)",
            "Cell \u001b[1;32mIn[83], line 1\u001b[0m\n\u001b[1;32m----> 1\u001b[0m \u001b[43mresponse\u001b[49m\u001b[38;5;241;43m.\u001b[39;49m\u001b[43mraise_for_status\u001b[49m\u001b[43m(\u001b[49m\u001b[43m)\u001b[49m\n",
            "File \u001b[1;32m~\\AppData\\Local\\Programs\\Python\\Python310\\lib\\site-packages\\requests\\models.py:1021\u001b[0m, in \u001b[0;36mResponse.raise_for_status\u001b[1;34m(self)\u001b[0m\n\u001b[0;32m   1016\u001b[0m     http_error_msg \u001b[38;5;241m=\u001b[39m (\n\u001b[0;32m   1017\u001b[0m         \u001b[38;5;124mf\u001b[39m\u001b[38;5;124m\"\u001b[39m\u001b[38;5;132;01m{\u001b[39;00m\u001b[38;5;28mself\u001b[39m\u001b[38;5;241m.\u001b[39mstatus_code\u001b[38;5;132;01m}\u001b[39;00m\u001b[38;5;124m Server Error: \u001b[39m\u001b[38;5;132;01m{\u001b[39;00mreason\u001b[38;5;132;01m}\u001b[39;00m\u001b[38;5;124m for url: \u001b[39m\u001b[38;5;132;01m{\u001b[39;00m\u001b[38;5;28mself\u001b[39m\u001b[38;5;241m.\u001b[39murl\u001b[38;5;132;01m}\u001b[39;00m\u001b[38;5;124m\"\u001b[39m\n\u001b[0;32m   1018\u001b[0m     )\n\u001b[0;32m   1020\u001b[0m \u001b[38;5;28;01mif\u001b[39;00m http_error_msg:\n\u001b[1;32m-> 1021\u001b[0m     \u001b[38;5;28;01mraise\u001b[39;00m HTTPError(http_error_msg, response\u001b[38;5;241m=\u001b[39m\u001b[38;5;28mself\u001b[39m)\n",
            "\u001b[1;31mHTTPError\u001b[0m: 404 Client Error: Not Found for url: http://www.google.com/notawebpage"
          ]
        }
      ],
      "source": [
        "response.raise_for_status()"
      ]
    },
    {
      "cell_type": "code",
      "execution_count": null,
      "id": "c7a5a0d1-bb10-4195-89ab-36f299ea01aa",
      "metadata": {
        "id": "c7a5a0d1-bb10-4195-89ab-36f299ea01aa",
        "outputId": "1a4142a2-4992-432b-fe1b-fb08adefa96b"
      },
      "outputs": [
        {
          "data": {
            "text/plain": [
              "200"
            ]
          },
          "execution_count": 84,
          "metadata": {},
          "output_type": "execute_result"
        }
      ],
      "source": [
        "r = requests.get('http://www.google.com')\n",
        "r.status_code"
      ]
    },
    {
      "cell_type": "code",
      "execution_count": null,
      "id": "634595d1-946c-4cc4-86f2-5f84e16e304d",
      "metadata": {
        "id": "634595d1-946c-4cc4-86f2-5f84e16e304d"
      },
      "outputs": [],
      "source": [
        "r.raise_for_status()"
      ]
    },
    {
      "cell_type": "code",
      "execution_count": null,
      "id": "9da6e388-4009-45ae-a69f-36a41cebce51",
      "metadata": {
        "id": "9da6e388-4009-45ae-a69f-36a41cebce51",
        "outputId": "8339f504-3619-4b18-aeb6-d998aa6c539b"
      },
      "outputs": [
        {
          "ename": "ConnectTimeout",
          "evalue": "HTTPConnectionPool(host='192.0.2.1', port=80): Max retries exceeded with url: / (Caused by ConnectTimeoutError(<urllib3.connection.HTTPConnection object at 0x000001ECE8712410>, 'Connection to 192.0.2.1 timed out. (connect timeout=None)'))",
          "output_type": "error",
          "traceback": [
            "\u001b[1;31m---------------------------------------------------------------------\u001b[0m",
            "\u001b[1;31mTimeoutError\u001b[0m                        Traceback (most recent call last)",
            "File \u001b[1;32m~\\AppData\\Local\\Programs\\Python\\Python310\\lib\\site-packages\\urllib3\\connection.py:203\u001b[0m, in \u001b[0;36mHTTPConnection._new_conn\u001b[1;34m(self)\u001b[0m\n\u001b[0;32m    202\u001b[0m \u001b[38;5;28;01mtry\u001b[39;00m:\n\u001b[1;32m--> 203\u001b[0m     sock \u001b[38;5;241m=\u001b[39m \u001b[43mconnection\u001b[49m\u001b[38;5;241;43m.\u001b[39;49m\u001b[43mcreate_connection\u001b[49m\u001b[43m(\u001b[49m\n\u001b[0;32m    204\u001b[0m \u001b[43m        \u001b[49m\u001b[43m(\u001b[49m\u001b[38;5;28;43mself\u001b[39;49m\u001b[38;5;241;43m.\u001b[39;49m\u001b[43m_dns_host\u001b[49m\u001b[43m,\u001b[49m\u001b[43m \u001b[49m\u001b[38;5;28;43mself\u001b[39;49m\u001b[38;5;241;43m.\u001b[39;49m\u001b[43mport\u001b[49m\u001b[43m)\u001b[49m\u001b[43m,\u001b[49m\n\u001b[0;32m    205\u001b[0m \u001b[43m        \u001b[49m\u001b[38;5;28;43mself\u001b[39;49m\u001b[38;5;241;43m.\u001b[39;49m\u001b[43mtimeout\u001b[49m\u001b[43m,\u001b[49m\n\u001b[0;32m    206\u001b[0m \u001b[43m        \u001b[49m\u001b[43msource_address\u001b[49m\u001b[38;5;241;43m=\u001b[39;49m\u001b[38;5;28;43mself\u001b[39;49m\u001b[38;5;241;43m.\u001b[39;49m\u001b[43msource_address\u001b[49m\u001b[43m,\u001b[49m\n\u001b[0;32m    207\u001b[0m \u001b[43m        \u001b[49m\u001b[43msocket_options\u001b[49m\u001b[38;5;241;43m=\u001b[39;49m\u001b[38;5;28;43mself\u001b[39;49m\u001b[38;5;241;43m.\u001b[39;49m\u001b[43msocket_options\u001b[49m\u001b[43m,\u001b[49m\n\u001b[0;32m    208\u001b[0m \u001b[43m    \u001b[49m\u001b[43m)\u001b[49m\n\u001b[0;32m    209\u001b[0m \u001b[38;5;28;01mexcept\u001b[39;00m socket\u001b[38;5;241m.\u001b[39mgaierror \u001b[38;5;28;01mas\u001b[39;00m e:\n",
            "File \u001b[1;32m~\\AppData\\Local\\Programs\\Python\\Python310\\lib\\site-packages\\urllib3\\util\\connection.py:85\u001b[0m, in \u001b[0;36mcreate_connection\u001b[1;34m(address, timeout, source_address, socket_options)\u001b[0m\n\u001b[0;32m     84\u001b[0m \u001b[38;5;28;01mtry\u001b[39;00m:\n\u001b[1;32m---> 85\u001b[0m     \u001b[38;5;28;01mraise\u001b[39;00m err\n\u001b[0;32m     86\u001b[0m \u001b[38;5;28;01mfinally\u001b[39;00m:\n\u001b[0;32m     87\u001b[0m     \u001b[38;5;66;03m# Break explicitly a reference cycle\u001b[39;00m\n",
            "File \u001b[1;32m~\\AppData\\Local\\Programs\\Python\\Python310\\lib\\site-packages\\urllib3\\util\\connection.py:73\u001b[0m, in \u001b[0;36mcreate_connection\u001b[1;34m(address, timeout, source_address, socket_options)\u001b[0m\n\u001b[0;32m     72\u001b[0m     sock\u001b[38;5;241m.\u001b[39mbind(source_address)\n\u001b[1;32m---> 73\u001b[0m \u001b[43msock\u001b[49m\u001b[38;5;241;43m.\u001b[39;49m\u001b[43mconnect\u001b[49m\u001b[43m(\u001b[49m\u001b[43msa\u001b[49m\u001b[43m)\u001b[49m\n\u001b[0;32m     74\u001b[0m \u001b[38;5;66;03m# Break explicitly a reference cycle\u001b[39;00m\n",
            "\u001b[1;31mTimeoutError\u001b[0m: [WinError 10060] A connection attempt failed because the connected party did not properly respond after a period of time, or established connection failed because connected host has failed to respond",
            "\nThe above exception was the direct cause of the following exception:\n",
            "\u001b[1;31mConnectTimeoutError\u001b[0m                 Traceback (most recent call last)",
            "File \u001b[1;32m~\\AppData\\Local\\Programs\\Python\\Python310\\lib\\site-packages\\urllib3\\connectionpool.py:790\u001b[0m, in \u001b[0;36mHTTPConnectionPool.urlopen\u001b[1;34m(self, method, url, body, headers, retries, redirect, assert_same_host, timeout, pool_timeout, release_conn, chunked, body_pos, preload_content, decode_content, **response_kw)\u001b[0m\n\u001b[0;32m    789\u001b[0m \u001b[38;5;66;03m# Make the request on the HTTPConnection object\u001b[39;00m\n\u001b[1;32m--> 790\u001b[0m response \u001b[38;5;241m=\u001b[39m \u001b[38;5;28mself\u001b[39m\u001b[38;5;241m.\u001b[39m_make_request(\n\u001b[0;32m    791\u001b[0m     conn,\n\u001b[0;32m    792\u001b[0m     method,\n\u001b[0;32m    793\u001b[0m     url,\n\u001b[0;32m    794\u001b[0m     timeout\u001b[38;5;241m=\u001b[39mtimeout_obj,\n\u001b[0;32m    795\u001b[0m     body\u001b[38;5;241m=\u001b[39mbody,\n\u001b[0;32m    796\u001b[0m     headers\u001b[38;5;241m=\u001b[39mheaders,\n\u001b[0;32m    797\u001b[0m     chunked\u001b[38;5;241m=\u001b[39mchunked,\n\u001b[0;32m    798\u001b[0m     retries\u001b[38;5;241m=\u001b[39mretries,\n\u001b[0;32m    799\u001b[0m     response_conn\u001b[38;5;241m=\u001b[39mresponse_conn,\n\u001b[0;32m    800\u001b[0m     preload_content\u001b[38;5;241m=\u001b[39mpreload_content,\n\u001b[0;32m    801\u001b[0m     decode_content\u001b[38;5;241m=\u001b[39mdecode_content,\n\u001b[0;32m    802\u001b[0m     \u001b[38;5;241m*\u001b[39m\u001b[38;5;241m*\u001b[39mresponse_kw,\n\u001b[0;32m    803\u001b[0m )\n\u001b[0;32m    805\u001b[0m \u001b[38;5;66;03m# Everything went great!\u001b[39;00m\n",
            "File \u001b[1;32m~\\AppData\\Local\\Programs\\Python\\Python310\\lib\\site-packages\\urllib3\\connectionpool.py:496\u001b[0m, in \u001b[0;36mHTTPConnectionPool._make_request\u001b[1;34m(self, conn, method, url, body, headers, retries, timeout, chunked, response_conn, preload_content, decode_content, enforce_content_length)\u001b[0m\n\u001b[0;32m    495\u001b[0m \u001b[38;5;28;01mtry\u001b[39;00m:\n\u001b[1;32m--> 496\u001b[0m     \u001b[43mconn\u001b[49m\u001b[38;5;241;43m.\u001b[39;49m\u001b[43mrequest\u001b[49m\u001b[43m(\u001b[49m\n\u001b[0;32m    497\u001b[0m \u001b[43m        \u001b[49m\u001b[43mmethod\u001b[49m\u001b[43m,\u001b[49m\n\u001b[0;32m    498\u001b[0m \u001b[43m        \u001b[49m\u001b[43murl\u001b[49m\u001b[43m,\u001b[49m\n\u001b[0;32m    499\u001b[0m \u001b[43m        \u001b[49m\u001b[43mbody\u001b[49m\u001b[38;5;241;43m=\u001b[39;49m\u001b[43mbody\u001b[49m\u001b[43m,\u001b[49m\n\u001b[0;32m    500\u001b[0m \u001b[43m        \u001b[49m\u001b[43mheaders\u001b[49m\u001b[38;5;241;43m=\u001b[39;49m\u001b[43mheaders\u001b[49m\u001b[43m,\u001b[49m\n\u001b[0;32m    501\u001b[0m \u001b[43m        \u001b[49m\u001b[43mchunked\u001b[49m\u001b[38;5;241;43m=\u001b[39;49m\u001b[43mchunked\u001b[49m\u001b[43m,\u001b[49m\n\u001b[0;32m    502\u001b[0m \u001b[43m        \u001b[49m\u001b[43mpreload_content\u001b[49m\u001b[38;5;241;43m=\u001b[39;49m\u001b[43mpreload_content\u001b[49m\u001b[43m,\u001b[49m\n\u001b[0;32m    503\u001b[0m \u001b[43m        \u001b[49m\u001b[43mdecode_content\u001b[49m\u001b[38;5;241;43m=\u001b[39;49m\u001b[43mdecode_content\u001b[49m\u001b[43m,\u001b[49m\n\u001b[0;32m    504\u001b[0m \u001b[43m        \u001b[49m\u001b[43menforce_content_length\u001b[49m\u001b[38;5;241;43m=\u001b[39;49m\u001b[43menforce_content_length\u001b[49m\u001b[43m,\u001b[49m\n\u001b[0;32m    505\u001b[0m \u001b[43m    \u001b[49m\u001b[43m)\u001b[49m\n\u001b[0;32m    507\u001b[0m \u001b[38;5;66;03m# We are swallowing BrokenPipeError (errno.EPIPE) since the server is\u001b[39;00m\n\u001b[0;32m    508\u001b[0m \u001b[38;5;66;03m# legitimately able to close the connection after sending a valid response.\u001b[39;00m\n\u001b[0;32m    509\u001b[0m \u001b[38;5;66;03m# With this behaviour, the received response is still readable.\u001b[39;00m\n",
            "File \u001b[1;32m~\\AppData\\Local\\Programs\\Python\\Python310\\lib\\site-packages\\urllib3\\connection.py:395\u001b[0m, in \u001b[0;36mHTTPConnection.request\u001b[1;34m(self, method, url, body, headers, chunked, preload_content, decode_content, enforce_content_length)\u001b[0m\n\u001b[0;32m    394\u001b[0m     \u001b[38;5;28mself\u001b[39m\u001b[38;5;241m.\u001b[39mputheader(header, value)\n\u001b[1;32m--> 395\u001b[0m \u001b[38;5;28;43mself\u001b[39;49m\u001b[38;5;241;43m.\u001b[39;49m\u001b[43mendheaders\u001b[49m\u001b[43m(\u001b[49m\u001b[43m)\u001b[49m\n\u001b[0;32m    397\u001b[0m \u001b[38;5;66;03m# If we're given a body we start sending that in chunks.\u001b[39;00m\n",
            "File \u001b[1;32m~\\AppData\\Local\\Programs\\Python\\Python310\\lib\\http\\client.py:1277\u001b[0m, in \u001b[0;36mHTTPConnection.endheaders\u001b[1;34m(self, message_body, encode_chunked)\u001b[0m\n\u001b[0;32m   1276\u001b[0m     \u001b[38;5;28;01mraise\u001b[39;00m CannotSendHeader()\n\u001b[1;32m-> 1277\u001b[0m \u001b[38;5;28;43mself\u001b[39;49m\u001b[38;5;241;43m.\u001b[39;49m\u001b[43m_send_output\u001b[49m\u001b[43m(\u001b[49m\u001b[43mmessage_body\u001b[49m\u001b[43m,\u001b[49m\u001b[43m \u001b[49m\u001b[43mencode_chunked\u001b[49m\u001b[38;5;241;43m=\u001b[39;49m\u001b[43mencode_chunked\u001b[49m\u001b[43m)\u001b[49m\n",
            "File \u001b[1;32m~\\AppData\\Local\\Programs\\Python\\Python310\\lib\\http\\client.py:1037\u001b[0m, in \u001b[0;36mHTTPConnection._send_output\u001b[1;34m(self, message_body, encode_chunked)\u001b[0m\n\u001b[0;32m   1036\u001b[0m \u001b[38;5;28;01mdel\u001b[39;00m \u001b[38;5;28mself\u001b[39m\u001b[38;5;241m.\u001b[39m_buffer[:]\n\u001b[1;32m-> 1037\u001b[0m \u001b[38;5;28;43mself\u001b[39;49m\u001b[38;5;241;43m.\u001b[39;49m\u001b[43msend\u001b[49m\u001b[43m(\u001b[49m\u001b[43mmsg\u001b[49m\u001b[43m)\u001b[49m\n\u001b[0;32m   1039\u001b[0m \u001b[38;5;28;01mif\u001b[39;00m message_body \u001b[38;5;129;01mis\u001b[39;00m \u001b[38;5;129;01mnot\u001b[39;00m \u001b[38;5;28;01mNone\u001b[39;00m:\n\u001b[0;32m   1040\u001b[0m \n\u001b[0;32m   1041\u001b[0m     \u001b[38;5;66;03m# create a consistent interface to message_body\u001b[39;00m\n",
            "File \u001b[1;32m~\\AppData\\Local\\Programs\\Python\\Python310\\lib\\http\\client.py:975\u001b[0m, in \u001b[0;36mHTTPConnection.send\u001b[1;34m(self, data)\u001b[0m\n\u001b[0;32m    974\u001b[0m \u001b[38;5;28;01mif\u001b[39;00m \u001b[38;5;28mself\u001b[39m\u001b[38;5;241m.\u001b[39mauto_open:\n\u001b[1;32m--> 975\u001b[0m     \u001b[38;5;28;43mself\u001b[39;49m\u001b[38;5;241;43m.\u001b[39;49m\u001b[43mconnect\u001b[49m\u001b[43m(\u001b[49m\u001b[43m)\u001b[49m\n\u001b[0;32m    976\u001b[0m \u001b[38;5;28;01melse\u001b[39;00m:\n",
            "File \u001b[1;32m~\\AppData\\Local\\Programs\\Python\\Python310\\lib\\site-packages\\urllib3\\connection.py:243\u001b[0m, in \u001b[0;36mHTTPConnection.connect\u001b[1;34m(self)\u001b[0m\n\u001b[0;32m    242\u001b[0m \u001b[38;5;28;01mdef\u001b[39;00m \u001b[38;5;21mconnect\u001b[39m(\u001b[38;5;28mself\u001b[39m) \u001b[38;5;241m-\u001b[39m\u001b[38;5;241m>\u001b[39m \u001b[38;5;28;01mNone\u001b[39;00m:\n\u001b[1;32m--> 243\u001b[0m     \u001b[38;5;28mself\u001b[39m\u001b[38;5;241m.\u001b[39msock \u001b[38;5;241m=\u001b[39m \u001b[38;5;28;43mself\u001b[39;49m\u001b[38;5;241;43m.\u001b[39;49m\u001b[43m_new_conn\u001b[49m\u001b[43m(\u001b[49m\u001b[43m)\u001b[49m\n\u001b[0;32m    244\u001b[0m     \u001b[38;5;28;01mif\u001b[39;00m \u001b[38;5;28mself\u001b[39m\u001b[38;5;241m.\u001b[39m_tunnel_host:\n\u001b[0;32m    245\u001b[0m         \u001b[38;5;66;03m# If we're tunneling it means we're connected to our proxy.\u001b[39;00m\n",
            "File \u001b[1;32m~\\AppData\\Local\\Programs\\Python\\Python310\\lib\\site-packages\\urllib3\\connection.py:212\u001b[0m, in \u001b[0;36mHTTPConnection._new_conn\u001b[1;34m(self)\u001b[0m\n\u001b[0;32m    211\u001b[0m \u001b[38;5;28;01mexcept\u001b[39;00m SocketTimeout \u001b[38;5;28;01mas\u001b[39;00m e:\n\u001b[1;32m--> 212\u001b[0m     \u001b[38;5;28;01mraise\u001b[39;00m ConnectTimeoutError(\n\u001b[0;32m    213\u001b[0m         \u001b[38;5;28mself\u001b[39m,\n\u001b[0;32m    214\u001b[0m         \u001b[38;5;124mf\u001b[39m\u001b[38;5;124m\"\u001b[39m\u001b[38;5;124mConnection to \u001b[39m\u001b[38;5;132;01m{\u001b[39;00m\u001b[38;5;28mself\u001b[39m\u001b[38;5;241m.\u001b[39mhost\u001b[38;5;132;01m}\u001b[39;00m\u001b[38;5;124m timed out. (connect timeout=\u001b[39m\u001b[38;5;132;01m{\u001b[39;00m\u001b[38;5;28mself\u001b[39m\u001b[38;5;241m.\u001b[39mtimeout\u001b[38;5;132;01m}\u001b[39;00m\u001b[38;5;124m)\u001b[39m\u001b[38;5;124m\"\u001b[39m,\n\u001b[0;32m    215\u001b[0m     ) \u001b[38;5;28;01mfrom\u001b[39;00m \u001b[38;5;21;01me\u001b[39;00m\n\u001b[0;32m    217\u001b[0m \u001b[38;5;28;01mexcept\u001b[39;00m \u001b[38;5;167;01mOSError\u001b[39;00m \u001b[38;5;28;01mas\u001b[39;00m e:\n",
            "\u001b[1;31mConnectTimeoutError\u001b[0m: (<urllib3.connection.HTTPConnection object at 0x000001ECE8712410>, 'Connection to 192.0.2.1 timed out. (connect timeout=None)')",
            "\nThe above exception was the direct cause of the following exception:\n",
            "\u001b[1;31mMaxRetryError\u001b[0m                       Traceback (most recent call last)",
            "File \u001b[1;32m~\\AppData\\Local\\Programs\\Python\\Python310\\lib\\site-packages\\requests\\adapters.py:486\u001b[0m, in \u001b[0;36mHTTPAdapter.send\u001b[1;34m(self, request, stream, timeout, verify, cert, proxies)\u001b[0m\n\u001b[0;32m    485\u001b[0m \u001b[38;5;28;01mtry\u001b[39;00m:\n\u001b[1;32m--> 486\u001b[0m     resp \u001b[38;5;241m=\u001b[39m \u001b[43mconn\u001b[49m\u001b[38;5;241;43m.\u001b[39;49m\u001b[43murlopen\u001b[49m\u001b[43m(\u001b[49m\n\u001b[0;32m    487\u001b[0m \u001b[43m        \u001b[49m\u001b[43mmethod\u001b[49m\u001b[38;5;241;43m=\u001b[39;49m\u001b[43mrequest\u001b[49m\u001b[38;5;241;43m.\u001b[39;49m\u001b[43mmethod\u001b[49m\u001b[43m,\u001b[49m\n\u001b[0;32m    488\u001b[0m \u001b[43m        \u001b[49m\u001b[43murl\u001b[49m\u001b[38;5;241;43m=\u001b[39;49m\u001b[43murl\u001b[49m\u001b[43m,\u001b[49m\n\u001b[0;32m    489\u001b[0m \u001b[43m        \u001b[49m\u001b[43mbody\u001b[49m\u001b[38;5;241;43m=\u001b[39;49m\u001b[43mrequest\u001b[49m\u001b[38;5;241;43m.\u001b[39;49m\u001b[43mbody\u001b[49m\u001b[43m,\u001b[49m\n\u001b[0;32m    490\u001b[0m \u001b[43m        \u001b[49m\u001b[43mheaders\u001b[49m\u001b[38;5;241;43m=\u001b[39;49m\u001b[43mrequest\u001b[49m\u001b[38;5;241;43m.\u001b[39;49m\u001b[43mheaders\u001b[49m\u001b[43m,\u001b[49m\n\u001b[0;32m    491\u001b[0m \u001b[43m        \u001b[49m\u001b[43mredirect\u001b[49m\u001b[38;5;241;43m=\u001b[39;49m\u001b[38;5;28;43;01mFalse\u001b[39;49;00m\u001b[43m,\u001b[49m\n\u001b[0;32m    492\u001b[0m \u001b[43m        \u001b[49m\u001b[43massert_same_host\u001b[49m\u001b[38;5;241;43m=\u001b[39;49m\u001b[38;5;28;43;01mFalse\u001b[39;49;00m\u001b[43m,\u001b[49m\n\u001b[0;32m    493\u001b[0m \u001b[43m        \u001b[49m\u001b[43mpreload_content\u001b[49m\u001b[38;5;241;43m=\u001b[39;49m\u001b[38;5;28;43;01mFalse\u001b[39;49;00m\u001b[43m,\u001b[49m\n\u001b[0;32m    494\u001b[0m \u001b[43m        \u001b[49m\u001b[43mdecode_content\u001b[49m\u001b[38;5;241;43m=\u001b[39;49m\u001b[38;5;28;43;01mFalse\u001b[39;49;00m\u001b[43m,\u001b[49m\n\u001b[0;32m    495\u001b[0m \u001b[43m        \u001b[49m\u001b[43mretries\u001b[49m\u001b[38;5;241;43m=\u001b[39;49m\u001b[38;5;28;43mself\u001b[39;49m\u001b[38;5;241;43m.\u001b[39;49m\u001b[43mmax_retries\u001b[49m\u001b[43m,\u001b[49m\n\u001b[0;32m    496\u001b[0m \u001b[43m        \u001b[49m\u001b[43mtimeout\u001b[49m\u001b[38;5;241;43m=\u001b[39;49m\u001b[43mtimeout\u001b[49m\u001b[43m,\u001b[49m\n\u001b[0;32m    497\u001b[0m \u001b[43m        \u001b[49m\u001b[43mchunked\u001b[49m\u001b[38;5;241;43m=\u001b[39;49m\u001b[43mchunked\u001b[49m\u001b[43m,\u001b[49m\n\u001b[0;32m    498\u001b[0m \u001b[43m    \u001b[49m\u001b[43m)\u001b[49m\n\u001b[0;32m    500\u001b[0m \u001b[38;5;28;01mexcept\u001b[39;00m (ProtocolError, \u001b[38;5;167;01mOSError\u001b[39;00m) \u001b[38;5;28;01mas\u001b[39;00m err:\n",
            "File \u001b[1;32m~\\AppData\\Local\\Programs\\Python\\Python310\\lib\\site-packages\\urllib3\\connectionpool.py:844\u001b[0m, in \u001b[0;36mHTTPConnectionPool.urlopen\u001b[1;34m(self, method, url, body, headers, retries, redirect, assert_same_host, timeout, pool_timeout, release_conn, chunked, body_pos, preload_content, decode_content, **response_kw)\u001b[0m\n\u001b[0;32m    842\u001b[0m     new_e \u001b[38;5;241m=\u001b[39m ProtocolError(\u001b[38;5;124m\"\u001b[39m\u001b[38;5;124mConnection aborted.\u001b[39m\u001b[38;5;124m\"\u001b[39m, new_e)\n\u001b[1;32m--> 844\u001b[0m retries \u001b[38;5;241m=\u001b[39m \u001b[43mretries\u001b[49m\u001b[38;5;241;43m.\u001b[39;49m\u001b[43mincrement\u001b[49m\u001b[43m(\u001b[49m\n\u001b[0;32m    845\u001b[0m \u001b[43m    \u001b[49m\u001b[43mmethod\u001b[49m\u001b[43m,\u001b[49m\u001b[43m \u001b[49m\u001b[43murl\u001b[49m\u001b[43m,\u001b[49m\u001b[43m \u001b[49m\u001b[43merror\u001b[49m\u001b[38;5;241;43m=\u001b[39;49m\u001b[43mnew_e\u001b[49m\u001b[43m,\u001b[49m\u001b[43m \u001b[49m\u001b[43m_pool\u001b[49m\u001b[38;5;241;43m=\u001b[39;49m\u001b[38;5;28;43mself\u001b[39;49m\u001b[43m,\u001b[49m\u001b[43m \u001b[49m\u001b[43m_stacktrace\u001b[49m\u001b[38;5;241;43m=\u001b[39;49m\u001b[43msys\u001b[49m\u001b[38;5;241;43m.\u001b[39;49m\u001b[43mexc_info\u001b[49m\u001b[43m(\u001b[49m\u001b[43m)\u001b[49m\u001b[43m[\u001b[49m\u001b[38;5;241;43m2\u001b[39;49m\u001b[43m]\u001b[49m\n\u001b[0;32m    846\u001b[0m \u001b[43m\u001b[49m\u001b[43m)\u001b[49m\n\u001b[0;32m    847\u001b[0m retries\u001b[38;5;241m.\u001b[39msleep()\n",
            "File \u001b[1;32m~\\AppData\\Local\\Programs\\Python\\Python310\\lib\\site-packages\\urllib3\\util\\retry.py:515\u001b[0m, in \u001b[0;36mRetry.increment\u001b[1;34m(self, method, url, response, error, _pool, _stacktrace)\u001b[0m\n\u001b[0;32m    514\u001b[0m     reason \u001b[38;5;241m=\u001b[39m error \u001b[38;5;129;01mor\u001b[39;00m ResponseError(cause)\n\u001b[1;32m--> 515\u001b[0m     \u001b[38;5;28;01mraise\u001b[39;00m MaxRetryError(_pool, url, reason) \u001b[38;5;28;01mfrom\u001b[39;00m \u001b[38;5;21;01mreason\u001b[39;00m  \u001b[38;5;66;03m# type: ignore[arg-type]\u001b[39;00m\n\u001b[0;32m    517\u001b[0m log\u001b[38;5;241m.\u001b[39mdebug(\u001b[38;5;124m\"\u001b[39m\u001b[38;5;124mIncremented Retry for (url=\u001b[39m\u001b[38;5;124m'\u001b[39m\u001b[38;5;132;01m%s\u001b[39;00m\u001b[38;5;124m'\u001b[39m\u001b[38;5;124m): \u001b[39m\u001b[38;5;132;01m%r\u001b[39;00m\u001b[38;5;124m\"\u001b[39m, url, new_retry)\n",
            "\u001b[1;31mMaxRetryError\u001b[0m: HTTPConnectionPool(host='192.0.2.1', port=80): Max retries exceeded with url: / (Caused by ConnectTimeoutError(<urllib3.connection.HTTPConnection object at 0x000001ECE8712410>, 'Connection to 192.0.2.1 timed out. (connect timeout=None)'))",
            "\nDuring handling of the above exception, another exception occurred:\n",
            "\u001b[1;31mConnectTimeout\u001b[0m                      Traceback (most recent call last)",
            "Cell \u001b[1;32mIn[86], line 1\u001b[0m\n\u001b[1;32m----> 1\u001b[0m r \u001b[38;5;241m=\u001b[39m \u001b[43mrequests\u001b[49m\u001b[38;5;241;43m.\u001b[39;49m\u001b[43mget\u001b[49m\u001b[43m(\u001b[49m\u001b[38;5;124;43m'\u001b[39;49m\u001b[38;5;124;43mhttp://192.0.2.1\u001b[39;49m\u001b[38;5;124;43m'\u001b[39;49m\u001b[43m)\u001b[49m\n",
            "File \u001b[1;32m~\\AppData\\Local\\Programs\\Python\\Python310\\lib\\site-packages\\requests\\api.py:73\u001b[0m, in \u001b[0;36mget\u001b[1;34m(url, params, **kwargs)\u001b[0m\n\u001b[0;32m     62\u001b[0m \u001b[38;5;28;01mdef\u001b[39;00m \u001b[38;5;21mget\u001b[39m(url, params\u001b[38;5;241m=\u001b[39m\u001b[38;5;28;01mNone\u001b[39;00m, \u001b[38;5;241m*\u001b[39m\u001b[38;5;241m*\u001b[39mkwargs):\n\u001b[0;32m     63\u001b[0m \u001b[38;5;250m    \u001b[39m\u001b[38;5;124mr\u001b[39m\u001b[38;5;124;03m\"\"\"Sends a GET request.\u001b[39;00m\n\u001b[0;32m     64\u001b[0m \n\u001b[0;32m     65\u001b[0m \u001b[38;5;124;03m    :param url: URL for the new :class:`Request` object.\u001b[39;00m\n\u001b[1;32m   (...)\u001b[0m\n\u001b[0;32m     70\u001b[0m \u001b[38;5;124;03m    :rtype: requests.Response\u001b[39;00m\n\u001b[0;32m     71\u001b[0m \u001b[38;5;124;03m    \"\"\"\u001b[39;00m\n\u001b[1;32m---> 73\u001b[0m     \u001b[38;5;28;01mreturn\u001b[39;00m request(\u001b[38;5;124m\"\u001b[39m\u001b[38;5;124mget\u001b[39m\u001b[38;5;124m\"\u001b[39m, url, params\u001b[38;5;241m=\u001b[39mparams, \u001b[38;5;241m*\u001b[39m\u001b[38;5;241m*\u001b[39mkwargs)\n",
            "File \u001b[1;32m~\\AppData\\Local\\Programs\\Python\\Python310\\lib\\site-packages\\requests\\api.py:59\u001b[0m, in \u001b[0;36mrequest\u001b[1;34m(method, url, **kwargs)\u001b[0m\n\u001b[0;32m     55\u001b[0m \u001b[38;5;66;03m# By using the 'with' statement we are sure the session is closed, thus we\u001b[39;00m\n\u001b[0;32m     56\u001b[0m \u001b[38;5;66;03m# avoid leaving sockets open which can trigger a ResourceWarning in some\u001b[39;00m\n\u001b[0;32m     57\u001b[0m \u001b[38;5;66;03m# cases, and look like a memory leak in others.\u001b[39;00m\n\u001b[0;32m     58\u001b[0m \u001b[38;5;28;01mwith\u001b[39;00m sessions\u001b[38;5;241m.\u001b[39mSession() \u001b[38;5;28;01mas\u001b[39;00m session:\n\u001b[1;32m---> 59\u001b[0m     \u001b[38;5;28;01mreturn\u001b[39;00m session\u001b[38;5;241m.\u001b[39mrequest(method\u001b[38;5;241m=\u001b[39mmethod, url\u001b[38;5;241m=\u001b[39murl, \u001b[38;5;241m*\u001b[39m\u001b[38;5;241m*\u001b[39mkwargs)\n",
            "File \u001b[1;32m~\\AppData\\Local\\Programs\\Python\\Python310\\lib\\site-packages\\requests\\sessions.py:589\u001b[0m, in \u001b[0;36mSession.request\u001b[1;34m(self, method, url, params, data, headers, cookies, files, auth, timeout, allow_redirects, proxies, hooks, stream, verify, cert, json)\u001b[0m\n\u001b[0;32m    584\u001b[0m send_kwargs \u001b[38;5;241m=\u001b[39m {\n\u001b[0;32m    585\u001b[0m     \u001b[38;5;124m\"\u001b[39m\u001b[38;5;124mtimeout\u001b[39m\u001b[38;5;124m\"\u001b[39m: timeout,\n\u001b[0;32m    586\u001b[0m     \u001b[38;5;124m\"\u001b[39m\u001b[38;5;124mallow_redirects\u001b[39m\u001b[38;5;124m\"\u001b[39m: allow_redirects,\n\u001b[0;32m    587\u001b[0m }\n\u001b[0;32m    588\u001b[0m send_kwargs\u001b[38;5;241m.\u001b[39mupdate(settings)\n\u001b[1;32m--> 589\u001b[0m resp \u001b[38;5;241m=\u001b[39m \u001b[38;5;28mself\u001b[39m\u001b[38;5;241m.\u001b[39msend(prep, \u001b[38;5;241m*\u001b[39m\u001b[38;5;241m*\u001b[39msend_kwargs)\n\u001b[0;32m    591\u001b[0m \u001b[38;5;28;01mreturn\u001b[39;00m resp\n",
            "File \u001b[1;32m~\\AppData\\Local\\Programs\\Python\\Python310\\lib\\site-packages\\requests\\sessions.py:703\u001b[0m, in \u001b[0;36mSession.send\u001b[1;34m(self, request, **kwargs)\u001b[0m\n\u001b[0;32m    700\u001b[0m start \u001b[38;5;241m=\u001b[39m preferred_clock()\n\u001b[0;32m    702\u001b[0m \u001b[38;5;66;03m# Send the request\u001b[39;00m\n\u001b[1;32m--> 703\u001b[0m r \u001b[38;5;241m=\u001b[39m adapter\u001b[38;5;241m.\u001b[39msend(request, \u001b[38;5;241m*\u001b[39m\u001b[38;5;241m*\u001b[39mkwargs)\n\u001b[0;32m    705\u001b[0m \u001b[38;5;66;03m# Total elapsed time of the request (approximately)\u001b[39;00m\n\u001b[0;32m    706\u001b[0m elapsed \u001b[38;5;241m=\u001b[39m preferred_clock() \u001b[38;5;241m-\u001b[39m start\n",
            "File \u001b[1;32m~\\AppData\\Local\\Programs\\Python\\Python310\\lib\\site-packages\\requests\\adapters.py:507\u001b[0m, in \u001b[0;36mHTTPAdapter.send\u001b[1;34m(self, request, stream, timeout, verify, cert, proxies)\u001b[0m\n\u001b[0;32m    504\u001b[0m \u001b[38;5;28;01mif\u001b[39;00m \u001b[38;5;28misinstance\u001b[39m(e\u001b[38;5;241m.\u001b[39mreason, ConnectTimeoutError):\n\u001b[0;32m    505\u001b[0m     \u001b[38;5;66;03m# TODO: Remove this in 3.0.0: see #2811\u001b[39;00m\n\u001b[0;32m    506\u001b[0m     \u001b[38;5;28;01mif\u001b[39;00m \u001b[38;5;129;01mnot\u001b[39;00m \u001b[38;5;28misinstance\u001b[39m(e\u001b[38;5;241m.\u001b[39mreason, NewConnectionError):\n\u001b[1;32m--> 507\u001b[0m         \u001b[38;5;28;01mraise\u001b[39;00m ConnectTimeout(e, request\u001b[38;5;241m=\u001b[39mrequest)\n\u001b[0;32m    509\u001b[0m \u001b[38;5;28;01mif\u001b[39;00m \u001b[38;5;28misinstance\u001b[39m(e\u001b[38;5;241m.\u001b[39mreason, ResponseError):\n\u001b[0;32m    510\u001b[0m     \u001b[38;5;28;01mraise\u001b[39;00m RetryError(e, request\u001b[38;5;241m=\u001b[39mrequest)\n",
            "\u001b[1;31mConnectTimeout\u001b[0m: HTTPConnectionPool(host='192.0.2.1', port=80): Max retries exceeded with url: / (Caused by ConnectTimeoutError(<urllib3.connection.HTTPConnection object at 0x000001ECE8712410>, 'Connection to 192.0.2.1 timed out. (connect timeout=None)'))"
          ]
        }
      ],
      "source": [
        "r = requests.get('http://192.0.2.1')"
      ]
    }
  ],
  "metadata": {
    "kernelspec": {
      "display_name": "Python 3 (ipykernel)",
      "language": "python",
      "name": "python3"
    },
    "language_info": {
      "codemirror_mode": {
        "name": "ipython",
        "version": 3
      },
      "file_extension": ".py",
      "mimetype": "text/x-python",
      "name": "python",
      "nbconvert_exporter": "python",
      "pygments_lexer": "ipython3",
      "version": "3.10.7"
    },
    "colab": {
      "provenance": [],
      "include_colab_link": true
    }
  },
  "nbformat": 4,
  "nbformat_minor": 5
}